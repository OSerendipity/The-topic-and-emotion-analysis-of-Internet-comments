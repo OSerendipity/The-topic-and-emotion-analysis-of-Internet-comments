{
 "cells": [
  {
   "cell_type": "code",
   "execution_count": 1,
   "metadata": {
    "ExecuteTime": {
     "end_time": "2021-08-16T17:16:10.776624Z",
     "start_time": "2021-08-16T17:16:10.146552Z"
    }
   },
   "outputs": [],
   "source": [
    "from selenium import webdriver\n",
    "import time\n",
    "from bs4 import BeautifulSoup\n",
    "import re\n",
    "import pandas as pd\n",
    "from selenium.webdriver.common.action_chains import ActionChains\n",
    "from selenium.webdriver.chrome.options import Options"
   ]
  },
  {
   "cell_type": "code",
   "execution_count": 2,
   "metadata": {
    "ExecuteTime": {
     "end_time": "2021-08-16T17:16:10.792155Z",
     "start_time": "2021-08-16T17:16:10.777580Z"
    }
   },
   "outputs": [],
   "source": [
    "url='https://you.ctrip.com/sight/qingdao5/1266.html#ctm_ref=www_hp_bs_lst'"
   ]
  },
  {
   "cell_type": "code",
   "execution_count": 3,
   "metadata": {
    "ExecuteTime": {
     "end_time": "2021-08-16T17:16:22.761142Z",
     "start_time": "2021-08-16T17:16:10.794132Z"
    }
   },
   "outputs": [],
   "source": [
    "browser = webdriver.Chrome()\n",
    "browser.get(url)"
   ]
  },
  {
   "cell_type": "code",
   "execution_count": 4,
   "metadata": {
    "ExecuteTime": {
     "end_time": "2021-08-16T17:16:23.421883Z",
     "start_time": "2021-08-16T17:16:22.767125Z"
    }
   },
   "outputs": [],
   "source": [
    "name=browser.find_element_by_xpath('//*[@id=\"__next\"]/div[3]/div/div[3]/div[2]/div[1]/h1').get_attribute('innerHTML')\n",
    "score=float(browser.find_element_by_xpath('//*[@id=\"__next\"]/div[3]/div/div[3]/div[2]/div[2]/div/p[1]').get_attribute('innerHTML'))"
   ]
  },
  {
   "cell_type": "code",
   "execution_count": 5,
   "metadata": {
    "ExecuteTime": {
     "end_time": "2021-08-16T17:16:23.437202Z",
     "start_time": "2021-08-16T17:16:23.422877Z"
    }
   },
   "outputs": [],
   "source": [
    "comments_total=0\n",
    "comments=[]\n",
    "date=[]\n",
    "good=[]\n",
    "stars=[]\n",
    "yeshu=1"
   ]
  },
  {
   "cell_type": "code",
   "execution_count": 6,
   "metadata": {
    "ExecuteTime": {
     "end_time": "2021-08-16T17:56:11.639722Z",
     "start_time": "2021-08-16T17:16:23.439070Z"
    },
    "code_folding": [],
    "scrolled": true
   },
   "outputs": [
    {
     "name": "stdout",
     "output_type": "stream",
     "text": [
      "1\n",
      "2\n",
      "3\n",
      "4\n",
      "5\n",
      "6\n",
      "7\n",
      "8\n",
      "9\n",
      "10\n",
      "11\n",
      "12\n",
      "13\n",
      "14\n",
      "15\n",
      "16\n",
      "17\n",
      "18\n",
      "19\n",
      "20\n",
      "21\n",
      "22\n",
      "23\n",
      "24\n",
      "25\n",
      "26\n",
      "27\n",
      "28\n",
      "29\n",
      "30\n",
      "31\n",
      "32\n",
      "33\n",
      "34\n",
      "35\n",
      "36\n",
      "37\n",
      "38\n",
      "39\n",
      "40\n",
      "41\n",
      "42\n",
      "43\n",
      "44\n",
      "45\n",
      "46\n",
      "47\n",
      "48\n",
      "49\n",
      "50\n",
      "51\n",
      "52\n",
      "53\n",
      "54\n",
      "55\n",
      "56\n",
      "57\n",
      "58\n",
      "59\n",
      "60\n",
      "61\n",
      "62\n",
      "63\n",
      "64\n",
      "65\n",
      "66\n",
      "67\n",
      "68\n",
      "69\n",
      "点击结束\n"
     ]
    }
   ],
   "source": [
    "while True:\n",
    "    print(yeshu)\n",
    "    table = browser.find_element_by_class_name(\n",
    "        'commentList').get_attribute('innerHTML')\n",
    "    soup = BeautifulSoup(table, \"html.parser\")\n",
    "    parts = soup.find_all(attrs={'class': 'commentItem'})\n",
    "    for part in parts:\n",
    "        date_ = re.search(r'<div class=\"commentTime\">(.*?)</div>',\n",
    "                          str(part), re.M | re.I | re.DOTALL).group(1)\n",
    "        if '</span>点赞</span>' not in str(part):\n",
    "            good_ = re.search(r'<span class=\"common-iconfont toolsIcon votedIcon\">.*?</span>(.*?)</span>',\n",
    "                              str(part), re.M | re.I | re.DOTALL).group(1)\n",
    "        else:\n",
    "            good_ = '0'\n",
    "        comments_ = re.search(\n",
    "            r'<div class=\"commentDetail\">(.*?)</div>', str(part), re.M | re.I | re.DOTALL).group(1)\n",
    "        try:\n",
    "            stars_ = float(re.search(r'.png\"/>(.*?)<!-- -->分 <!-- -->',\n",
    "                                     str(part), re.M | re.I | re.DOTALL).group(1))\n",
    "        except:\n",
    "            stars_ = score\n",
    "        good.append(good_)\n",
    "        stars.append(stars_)\n",
    "        date.append(date_.replace('-', r'/'))\n",
    "        comments.append(comments_)\n",
    "        comments_total += 1\n",
    "    btn = browser.find_element_by_class_name('ant-pagination-next')\n",
    "    if btn.get_attribute('aria-disabled') == 'false':\n",
    "        time.sleep(15)\n",
    "        btn.click()\n",
    "        time.sleep(20)\n",
    "        yeshu += 1\n",
    "    else:\n",
    "        print('点击结束')\n",
    "        break"
   ]
  },
  {
   "cell_type": "code",
   "execution_count": 7,
   "metadata": {
    "ExecuteTime": {
     "end_time": "2021-08-16T17:56:11.684293Z",
     "start_time": "2021-08-16T17:56:11.657019Z"
    }
   },
   "outputs": [],
   "source": [
    "data={'评论':comments,'得分':stars,'时间':date,'点赞':good}"
   ]
  },
  {
   "cell_type": "code",
   "execution_count": 8,
   "metadata": {
    "ExecuteTime": {
     "end_time": "2021-08-16T17:56:11.746832Z",
     "start_time": "2021-08-16T17:56:11.687286Z"
    }
   },
   "outputs": [],
   "source": [
    "df=pd.DataFrame(data)"
   ]
  },
  {
   "cell_type": "code",
   "execution_count": 9,
   "metadata": {
    "ExecuteTime": {
     "end_time": "2021-08-16T17:56:11.807973Z",
     "start_time": "2021-08-16T17:56:11.747787Z"
    }
   },
   "outputs": [
    {
     "data": {
      "text/html": [
       "<div>\n",
       "<style scoped>\n",
       "    .dataframe tbody tr th:only-of-type {\n",
       "        vertical-align: middle;\n",
       "    }\n",
       "\n",
       "    .dataframe tbody tr th {\n",
       "        vertical-align: top;\n",
       "    }\n",
       "\n",
       "    .dataframe thead th {\n",
       "        text-align: right;\n",
       "    }\n",
       "</style>\n",
       "<table border=\"1\" class=\"dataframe\">\n",
       "  <thead>\n",
       "    <tr style=\"text-align: right;\">\n",
       "      <th></th>\n",
       "      <th>评论</th>\n",
       "      <th>得分</th>\n",
       "      <th>时间</th>\n",
       "      <th>点赞</th>\n",
       "    </tr>\n",
       "  </thead>\n",
       "  <tbody>\n",
       "    <tr>\n",
       "      <th>0</th>\n",
       "      <td>小青岛公园位于鲁迅公园附近，可以近距离接触大海，岛上有很多红色礁石，另外还有德国建筑群，我们...</td>\n",
       "      <td>5.0</td>\n",
       "      <td>2021/07/18</td>\n",
       "      <td>0</td>\n",
       "    </tr>\n",
       "    <tr>\n",
       "      <th>1</th>\n",
       "      <td>相信有许多游客都去过青岛旅游，不知道大家有没有听说过这个景点，如果有兴趣去青岛旅游的话，一定...</td>\n",
       "      <td>4.0</td>\n",
       "      <td>2021/05/17</td>\n",
       "      <td>6</td>\n",
       "    </tr>\n",
       "    <tr>\n",
       "      <th>2</th>\n",
       "      <td>从栈桥过来走路10多分钟，走过去的时候到大门才发现5点就关门了，不过从滨河路到大门这一届路很...</td>\n",
       "      <td>5.0</td>\n",
       "      <td>2021/04/21</td>\n",
       "      <td>2</td>\n",
       "    </tr>\n",
       "    <tr>\n",
       "      <th>3</th>\n",
       "      <td>门票十元，是最值得去的地方。青岛之所以叫青岛，就是源于这个小青岛。登上岛，可以看见四周海景，...</td>\n",
       "      <td>5.0</td>\n",
       "      <td>2021/07/17</td>\n",
       "      <td>0</td>\n",
       "    </tr>\n",
       "    <tr>\n",
       "      <th>4</th>\n",
       "      <td>里面很大，能逛上一下午，空气好海水蓝，在里面拍照片原片直出！门票只要十块钱，学生票半价奥。注...</td>\n",
       "      <td>5.0</td>\n",
       "      <td>2021/03/05</td>\n",
       "      <td>0</td>\n",
       "    </tr>\n",
       "    <tr>\n",
       "      <th>...</th>\n",
       "      <td>...</td>\n",
       "      <td>...</td>\n",
       "      <td>...</td>\n",
       "      <td>...</td>\n",
       "    </tr>\n",
       "    <tr>\n",
       "      <th>681</th>\n",
       "      <td>灯塔没有开放。绕着小岛走了一圈，看看退役的舰船，看看礁石海水，没有多大的惊喜。是个可去可不去...</td>\n",
       "      <td>4.4</td>\n",
       "      <td>2009/07/22</td>\n",
       "      <td>0</td>\n",
       "    </tr>\n",
       "    <tr>\n",
       "      <th>682</th>\n",
       "      <td>好小的一个岛，真没啥好玩的，除了在边上抓抓小蟹。</td>\n",
       "      <td>4.4</td>\n",
       "      <td>2009/10/08</td>\n",
       "      <td>2</td>\n",
       "    </tr>\n",
       "    <tr>\n",
       "      <th>683</th>\n",
       "      <td>就是一个普通的海边公园，真的没什么意思，有时可以看到军舰。</td>\n",
       "      <td>4.4</td>\n",
       "      <td>2016/12/20</td>\n",
       "      <td>1</td>\n",
       "    </tr>\n",
       "    <tr>\n",
       "      <th>684</th>\n",
       "      <td>远眺...门票15元 貌似去那里的人不是很多</td>\n",
       "      <td>4.4</td>\n",
       "      <td>2009/08/28</td>\n",
       "      <td>1</td>\n",
       "    </tr>\n",
       "    <tr>\n",
       "      <th>685</th>\n",
       "      <td>门票15元，里面没什么看呀。只能远眺一下。</td>\n",
       "      <td>4.4</td>\n",
       "      <td>2008/08/04</td>\n",
       "      <td>0</td>\n",
       "    </tr>\n",
       "  </tbody>\n",
       "</table>\n",
       "<p>686 rows × 4 columns</p>\n",
       "</div>"
      ],
      "text/plain": [
       "                                                    评论   得分          时间 点赞\n",
       "0    小青岛公园位于鲁迅公园附近，可以近距离接触大海，岛上有很多红色礁石，另外还有德国建筑群，我们...  5.0  2021/07/18  0\n",
       "1    相信有许多游客都去过青岛旅游，不知道大家有没有听说过这个景点，如果有兴趣去青岛旅游的话，一定...  4.0  2021/05/17  6\n",
       "2    从栈桥过来走路10多分钟，走过去的时候到大门才发现5点就关门了，不过从滨河路到大门这一届路很...  5.0  2021/04/21  2\n",
       "3    门票十元，是最值得去的地方。青岛之所以叫青岛，就是源于这个小青岛。登上岛，可以看见四周海景，...  5.0  2021/07/17  0\n",
       "4    里面很大，能逛上一下午，空气好海水蓝，在里面拍照片原片直出！门票只要十块钱，学生票半价奥。注...  5.0  2021/03/05  0\n",
       "..                                                 ...  ...         ... ..\n",
       "681  灯塔没有开放。绕着小岛走了一圈，看看退役的舰船，看看礁石海水，没有多大的惊喜。是个可去可不去...  4.4  2009/07/22  0\n",
       "682                           好小的一个岛，真没啥好玩的，除了在边上抓抓小蟹。  4.4  2009/10/08  2\n",
       "683                      就是一个普通的海边公园，真的没什么意思，有时可以看到军舰。  4.4  2016/12/20  1\n",
       "684                             远眺...门票15元 貌似去那里的人不是很多  4.4  2009/08/28  1\n",
       "685                              门票15元，里面没什么看呀。只能远眺一下。  4.4  2008/08/04  0\n",
       "\n",
       "[686 rows x 4 columns]"
      ]
     },
     "execution_count": 9,
     "metadata": {},
     "output_type": "execute_result"
    }
   ],
   "source": [
    "df"
   ]
  },
  {
   "cell_type": "code",
   "execution_count": 10,
   "metadata": {
    "ExecuteTime": {
     "end_time": "2021-08-16T17:56:11.838898Z",
     "start_time": "2021-08-16T17:56:11.809957Z"
    }
   },
   "outputs": [],
   "source": [
    "df.to_csv('评论数据/'+name+'.csv',encoding='utf_8_sig')"
   ]
  },
  {
   "cell_type": "code",
   "execution_count": null,
   "metadata": {},
   "outputs": [],
   "source": []
  }
 ],
 "metadata": {
  "kernelspec": {
   "display_name": "Python 3",
   "language": "python",
   "name": "python3"
  },
  "language_info": {
   "codemirror_mode": {
    "name": "ipython",
    "version": 3
   },
   "file_extension": ".py",
   "mimetype": "text/x-python",
   "name": "python",
   "nbconvert_exporter": "python",
   "pygments_lexer": "ipython3",
   "version": "3.8.5"
  },
  "toc": {
   "base_numbering": 1,
   "nav_menu": {},
   "number_sections": true,
   "sideBar": true,
   "skip_h1_title": false,
   "title_cell": "Table of Contents",
   "title_sidebar": "Contents",
   "toc_cell": false,
   "toc_position": {},
   "toc_section_display": true,
   "toc_window_display": false
  },
  "varInspector": {
   "cols": {
    "lenName": 16,
    "lenType": 16,
    "lenVar": 40
   },
   "kernels_config": {
    "python": {
     "delete_cmd_postfix": "",
     "delete_cmd_prefix": "del ",
     "library": "var_list.py",
     "varRefreshCmd": "print(var_dic_list())"
    },
    "r": {
     "delete_cmd_postfix": ") ",
     "delete_cmd_prefix": "rm(",
     "library": "var_list.r",
     "varRefreshCmd": "cat(var_dic_list()) "
    }
   },
   "position": {
    "height": "311.4px",
    "left": "1070px",
    "right": "20px",
    "top": "179px",
    "width": "439px"
   },
   "types_to_exclude": [
    "module",
    "function",
    "builtin_function_or_method",
    "instance",
    "_Feature"
   ],
   "window_display": false
  }
 },
 "nbformat": 4,
 "nbformat_minor": 5
}
