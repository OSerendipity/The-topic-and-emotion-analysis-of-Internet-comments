{
 "cells": [
  {
   "cell_type": "markdown",
   "metadata": {},
   "source": [
    "# 导入库"
   ]
  },
  {
   "cell_type": "code",
   "execution_count": 1,
   "metadata": {
    "ExecuteTime": {
     "end_time": "2021-08-24T05:11:31.494651Z",
     "start_time": "2021-08-24T05:11:27.532084Z"
    }
   },
   "outputs": [],
   "source": [
    "import pandas as pd\n",
    "import numpy as np\n",
    "from snownlp import SnowNLP\n",
    "from snownlp import sentiment\n",
    "from zhon.hanzi import punctuation\n",
    "import string\n",
    "import re\n",
    "import jieba\n",
    "import copy\n",
    "from gensim.corpora import Dictionary\n",
    "from pprint import pprint\n",
    "from gensim.models.ldamodel import LdaModel\n",
    "from sklearn.feature_extraction.text import CountVectorizer\n",
    "from sklearn.feature_extraction.text import TfidfVectorizer\n",
    "from sklearn.naive_bayes import MultinomialNB\n",
    "import warnings\n",
    "import dataframe_image as dfi\n",
    "warnings.filterwarnings(\"ignore\")"
   ]
  },
  {
   "cell_type": "markdown",
   "metadata": {},
   "source": [
    "# 定义景区名称、加载停用词"
   ]
  },
  {
   "cell_type": "code",
   "execution_count": 2,
   "metadata": {
    "ExecuteTime": {
     "end_time": "2021-08-24T05:11:31.510593Z",
     "start_time": "2021-08-24T05:11:31.496591Z"
    }
   },
   "outputs": [],
   "source": [
    "name = ['第一海水浴场', '青岛水族馆', '青岛海底世界', '青岛海昌极地海洋公园', '青岛海泉湾海洋之星摩天轮',\n",
    "        '黄岛金沙滩', '石老人海水浴场', '第二海水浴场', '第三海水浴场', '琴岛之眼摩天轮', '栈桥', '青岛奥帆中心', '小青岛', '琅琊台风景区']\n",
    "sandbeach = ['第一海水浴场', '黄岛金沙滩', '石老人海水浴场', '第二海水浴场', '第三海水浴场']\n",
    "aquarium = ['青岛水族馆', '青岛海底世界', '青岛海昌极地海洋公园']\n",
    "skywheel = ['青岛海泉湾海洋之星摩天轮', '琴岛之眼摩天轮']\n",
    "park = ['栈桥', '青岛奥帆中心', '小青岛', '琅琊台风景区']"
   ]
  },
  {
   "cell_type": "code",
   "execution_count": 1,
   "metadata": {
    "ExecuteTime": {
     "end_time": "2021-08-26T06:16:01.940330Z",
     "start_time": "2021-08-26T06:16:01.924509Z"
    }
   },
   "outputs": [],
   "source": [
    "with open('stopwords.txt', 'r', newline='', encoding='utf-8') as txtfile:\n",
    "    stopwords = txtfile.read().split('\\r\\n')"
   ]
  },
  {
   "cell_type": "markdown",
   "metadata": {},
   "source": [
    "# 贝叶斯分类模型训练"
   ]
  },
  {
   "cell_type": "code",
   "execution_count": 4,
   "metadata": {
    "ExecuteTime": {
     "end_time": "2021-08-24T05:11:31.541982Z",
     "start_time": "2021-08-24T05:11:31.528583Z"
    }
   },
   "outputs": [],
   "source": [
    "def load_corpus(path):\n",
    "    data = []\n",
    "    with open(path, \"r\", encoding=\"utf8\") as f:\n",
    "        for line in f:\n",
    "            [_, seniment, content] = line.split(\",\", 2)\n",
    "            content = processing(content)\n",
    "            data.append((content, int(seniment)))\n",
    "    return data\n",
    "\n",
    "\n",
    "def processing(text):\n",
    "    text = re.sub(\"\\{%.+?%\\}\", \" \", text)\n",
    "    text = re.sub(\"@.+?( |$)\", \" \", text)\n",
    "    text = re.sub(\"【.+?】\", \" \", text)\n",
    "    text = re.sub(\"\\u200b\", \" \", text)\n",
    "    words = [w for w in jieba.lcut(text) if w.isalpha()]\n",
    "    while \"不\" in words:\n",
    "        index = words.index(\"不\")\n",
    "        if index == len(words) - 1:\n",
    "            break\n",
    "        words[index: index+2] = [\"\".join(words[index: index+2])]\n",
    "    result = \" \".join(words)\n",
    "    return result"
   ]
  },
  {
   "cell_type": "code",
   "execution_count": 5,
   "metadata": {
    "ExecuteTime": {
     "end_time": "2021-08-24T05:11:35.770007Z",
     "start_time": "2021-08-24T05:11:31.542984Z"
    },
    "scrolled": true
   },
   "outputs": [
    {
     "name": "stderr",
     "output_type": "stream",
     "text": [
      "Building prefix dict from the default dictionary ...\n",
      "Loading model from cache C:\\Users\\ASUS\\AppData\\Local\\Temp\\jieba.cache\n",
      "Loading model cost 0.583 seconds.\n",
      "Prefix dict has been built successfully.\n"
     ]
    },
    {
     "data": {
      "text/plain": [
       "MultinomialNB()"
      ]
     },
     "execution_count": 5,
     "metadata": {},
     "output_type": "execute_result"
    }
   ],
   "source": [
    "TRAIN_PATH = \"train.txt\"\n",
    "train_data = load_corpus(TRAIN_PATH)\n",
    "df_train = pd.DataFrame(train_data, columns=[\"words\", \"label\"])\n",
    "df_train.head()\n",
    "vectorizer = CountVectorizer(token_pattern='\\[?\\w+\\]?', stop_words=stopwords)\n",
    "vectorizer = TfidfVectorizer(token_pattern='\\[?\\w+\\]?', stop_words=stopwords)\n",
    "X_train = vectorizer.fit_transform(df_train[\"words\"])\n",
    "y_train = df_train[\"label\"]\n",
    "clf = MultinomialNB()\n",
    "clf.fit(X_train, y_train)"
   ]
  },
  {
   "cell_type": "markdown",
   "metadata": {},
   "source": [
    "# 评论读取以及标签"
   ]
  },
  {
   "cell_type": "code",
   "execution_count": 6,
   "metadata": {
    "ExecuteTime": {
     "end_time": "2021-08-24T05:12:14.720012Z",
     "start_time": "2021-08-24T05:11:35.770956Z"
    }
   },
   "outputs": [],
   "source": [
    "comments = []\n",
    "score = []\n",
    "for index, place in enumerate(sandbeach):\n",
    "    path = 'clean_data/'+place+'new_.csv'\n",
    "    data = pd.read_csv(path)\n",
    "    for i in range(len(data['评论'])):\n",
    "        comments.append(data['评论'][i])\n",
    "        score.append(SnowNLP(data['评论'][i]).sentiments)"
   ]
  },
  {
   "cell_type": "code",
   "execution_count": 7,
   "metadata": {
    "ExecuteTime": {
     "end_time": "2021-08-24T05:12:14.736057Z",
     "start_time": "2021-08-24T05:12:14.722012Z"
    }
   },
   "outputs": [],
   "source": [
    "def process(comments):\n",
    "    pattern = re.compile(u'\\t|\\n|\\.|-|:|;|\\)|\\(|\\?|\"')\n",
    "    punctuation_list = punctuation+string.punctuation+\" \"\n",
    "    for pun in punctuation_list:\n",
    "        comments = comments.replace(pun, '')\n",
    "    comments = re.sub(pattern, ' ', comments)\n",
    "    seg_list_exact = jieba.lcut(comments, cut_all=False)\n",
    "    return ' '.join(seg_list_exact)"
   ]
  },
  {
   "cell_type": "code",
   "execution_count": 8,
   "metadata": {
    "ExecuteTime": {
     "end_time": "2021-08-24T05:12:15.640649Z",
     "start_time": "2021-08-24T05:12:14.737877Z"
    }
   },
   "outputs": [],
   "source": [
    "words = [process(s) for s in comments]\n",
    "vec = vectorizer.transform(words)\n",
    "grade = clf.predict(vec)"
   ]
  },
  {
   "cell_type": "code",
   "execution_count": 9,
   "metadata": {
    "ExecuteTime": {
     "end_time": "2021-08-24T05:12:15.656606Z",
     "start_time": "2021-08-24T05:12:15.641645Z"
    }
   },
   "outputs": [
    {
     "data": {
      "text/html": [
       "<div>\n",
       "<style scoped>\n",
       "    .dataframe tbody tr th:only-of-type {\n",
       "        vertical-align: middle;\n",
       "    }\n",
       "\n",
       "    .dataframe tbody tr th {\n",
       "        vertical-align: top;\n",
       "    }\n",
       "\n",
       "    .dataframe thead th {\n",
       "        text-align: right;\n",
       "    }\n",
       "</style>\n",
       "<table border=\"1\" class=\"dataframe\">\n",
       "  <thead>\n",
       "    <tr style=\"text-align: right;\">\n",
       "      <th></th>\n",
       "      <th>comments</th>\n",
       "      <th>sentiments</th>\n",
       "      <th>grade</th>\n",
       "    </tr>\n",
       "  </thead>\n",
       "  <tbody>\n",
       "    <tr>\n",
       "      <th>0</th>\n",
       "      <td>不错接着期待还带孩子来</td>\n",
       "      <td>9.828904e-01</td>\n",
       "      <td>1</td>\n",
       "    </tr>\n",
       "    <tr>\n",
       "      <th>1</th>\n",
       "      <td>好</td>\n",
       "      <td>6.558628e-01</td>\n",
       "      <td>1</td>\n",
       "    </tr>\n",
       "    <tr>\n",
       "      <th>2</th>\n",
       "      <td>方便快捷，实惠</td>\n",
       "      <td>8.213507e-01</td>\n",
       "      <td>0</td>\n",
       "    </tr>\n",
       "    <tr>\n",
       "      <th>3</th>\n",
       "      <td>还要押金十块。。对象不知道押金的事，洗完出门的时候看前面女的把钥匙给门口大姨，她也把钥匙给门...</td>\n",
       "      <td>1.053449e-05</td>\n",
       "      <td>0</td>\n",
       "    </tr>\n",
       "    <tr>\n",
       "      <th>4</th>\n",
       "      <td>服务不好！环境不好！洗澡水太冷！</td>\n",
       "      <td>4.819800e-03</td>\n",
       "      <td>0</td>\n",
       "    </tr>\n",
       "    <tr>\n",
       "      <th>...</th>\n",
       "      <td>...</td>\n",
       "      <td>...</td>\n",
       "      <td>...</td>\n",
       "    </tr>\n",
       "    <tr>\n",
       "      <th>3107</th>\n",
       "      <td>这里的海水比较干净适合洗海澡。</td>\n",
       "      <td>5.837657e-01</td>\n",
       "      <td>1</td>\n",
       "    </tr>\n",
       "    <tr>\n",
       "      <th>3108</th>\n",
       "      <td>千万别再对面的街上吃饭，宰客很严重，一斤半的鱼能称重3斤。一个馒头两块</td>\n",
       "      <td>2.332884e-07</td>\n",
       "      <td>1</td>\n",
       "    </tr>\n",
       "    <tr>\n",
       "      <th>3109</th>\n",
       "      <td>春光乍好，和恋人一起去一个向往已久的地方，抛开工作和学业，开启无忧无虑的嗨嗨嗨模式吧～\\n这...</td>\n",
       "      <td>1.000000e+00</td>\n",
       "      <td>1</td>\n",
       "    </tr>\n",
       "    <tr>\n",
       "      <th>3110</th>\n",
       "      <td>最近几天去过，很肮脏！垃圾遍布沙滩，人屎狗屎很多！搭的大小帐篷到处都是！整个浴场弥漫着垃圾的...</td>\n",
       "      <td>6.031790e-02</td>\n",
       "      <td>0</td>\n",
       "    </tr>\n",
       "    <tr>\n",
       "      <th>3111</th>\n",
       "      <td>冬天有很多在这里游泳的，真不错。</td>\n",
       "      <td>9.195267e-01</td>\n",
       "      <td>1</td>\n",
       "    </tr>\n",
       "  </tbody>\n",
       "</table>\n",
       "<p>3112 rows × 3 columns</p>\n",
       "</div>"
      ],
      "text/plain": [
       "                                               comments    sentiments  grade\n",
       "0                                           不错接着期待还带孩子来  9.828904e-01      1\n",
       "1                                                     好  6.558628e-01      1\n",
       "2                                               方便快捷，实惠  8.213507e-01      0\n",
       "3     还要押金十块。。对象不知道押金的事，洗完出门的时候看前面女的把钥匙给门口大姨，她也把钥匙给门...  1.053449e-05      0\n",
       "4                                      服务不好！环境不好！洗澡水太冷！  4.819800e-03      0\n",
       "...                                                 ...           ...    ...\n",
       "3107                                    这里的海水比较干净适合洗海澡。  5.837657e-01      1\n",
       "3108                千万别再对面的街上吃饭，宰客很严重，一斤半的鱼能称重3斤。一个馒头两块  2.332884e-07      1\n",
       "3109  春光乍好，和恋人一起去一个向往已久的地方，抛开工作和学业，开启无忧无虑的嗨嗨嗨模式吧～\\n这...  1.000000e+00      1\n",
       "3110  最近几天去过，很肮脏！垃圾遍布沙滩，人屎狗屎很多！搭的大小帐篷到处都是！整个浴场弥漫着垃圾的...  6.031790e-02      0\n",
       "3111                                   冬天有很多在这里游泳的，真不错。  9.195267e-01      1\n",
       "\n",
       "[3112 rows x 3 columns]"
      ]
     },
     "execution_count": 9,
     "metadata": {},
     "output_type": "execute_result"
    }
   ],
   "source": [
    "df = pd.DataFrame({'comments': comments, 'sentiments': score, 'grade': grade})\n",
    "#df = pd.DataFrame({'comments': comments, 'grade': grade})\n",
    "df"
   ]
  },
  {
   "cell_type": "code",
   "execution_count": 10,
   "metadata": {
    "ExecuteTime": {
     "end_time": "2021-08-24T05:12:15.672594Z",
     "start_time": "2021-08-24T05:12:15.658600Z"
    }
   },
   "outputs": [],
   "source": [
    "#dfi.export(df,'1.png',max_rows=10)"
   ]
  },
  {
   "cell_type": "code",
   "execution_count": 11,
   "metadata": {
    "ExecuteTime": {
     "end_time": "2021-08-24T05:12:15.689519Z",
     "start_time": "2021-08-24T05:12:15.674579Z"
    }
   },
   "outputs": [],
   "source": [
    "def convert_grades(score):\n",
    "    if score <= 0.5:\n",
    "        return 0\n",
    "    else:\n",
    "        return 1"
   ]
  },
  {
   "cell_type": "code",
   "execution_count": 12,
   "metadata": {
    "ExecuteTime": {
     "end_time": "2021-08-24T05:12:15.720470Z",
     "start_time": "2021-08-24T05:12:15.692510Z"
    }
   },
   "outputs": [
    {
     "data": {
      "text/html": [
       "<div>\n",
       "<style scoped>\n",
       "    .dataframe tbody tr th:only-of-type {\n",
       "        vertical-align: middle;\n",
       "    }\n",
       "\n",
       "    .dataframe tbody tr th {\n",
       "        vertical-align: top;\n",
       "    }\n",
       "\n",
       "    .dataframe thead th {\n",
       "        text-align: right;\n",
       "    }\n",
       "</style>\n",
       "<table border=\"1\" class=\"dataframe\">\n",
       "  <thead>\n",
       "    <tr style=\"text-align: right;\">\n",
       "      <th></th>\n",
       "      <th>comments</th>\n",
       "      <th>sentiments</th>\n",
       "      <th>grade</th>\n",
       "      <th>labels</th>\n",
       "    </tr>\n",
       "  </thead>\n",
       "  <tbody>\n",
       "    <tr>\n",
       "      <th>0</th>\n",
       "      <td>不错接着期待还带孩子来</td>\n",
       "      <td>9.828904e-01</td>\n",
       "      <td>1</td>\n",
       "      <td>1</td>\n",
       "    </tr>\n",
       "    <tr>\n",
       "      <th>1</th>\n",
       "      <td>好</td>\n",
       "      <td>6.558628e-01</td>\n",
       "      <td>1</td>\n",
       "      <td>1</td>\n",
       "    </tr>\n",
       "    <tr>\n",
       "      <th>2</th>\n",
       "      <td>方便快捷，实惠</td>\n",
       "      <td>8.213507e-01</td>\n",
       "      <td>0</td>\n",
       "      <td>1</td>\n",
       "    </tr>\n",
       "    <tr>\n",
       "      <th>3</th>\n",
       "      <td>还要押金十块。。对象不知道押金的事，洗完出门的时候看前面女的把钥匙给门口大姨，她也把钥匙给门...</td>\n",
       "      <td>1.053449e-05</td>\n",
       "      <td>0</td>\n",
       "      <td>0</td>\n",
       "    </tr>\n",
       "    <tr>\n",
       "      <th>4</th>\n",
       "      <td>服务不好！环境不好！洗澡水太冷！</td>\n",
       "      <td>4.819800e-03</td>\n",
       "      <td>0</td>\n",
       "      <td>0</td>\n",
       "    </tr>\n",
       "    <tr>\n",
       "      <th>...</th>\n",
       "      <td>...</td>\n",
       "      <td>...</td>\n",
       "      <td>...</td>\n",
       "      <td>...</td>\n",
       "    </tr>\n",
       "    <tr>\n",
       "      <th>3107</th>\n",
       "      <td>这里的海水比较干净适合洗海澡。</td>\n",
       "      <td>5.837657e-01</td>\n",
       "      <td>1</td>\n",
       "      <td>1</td>\n",
       "    </tr>\n",
       "    <tr>\n",
       "      <th>3108</th>\n",
       "      <td>千万别再对面的街上吃饭，宰客很严重，一斤半的鱼能称重3斤。一个馒头两块</td>\n",
       "      <td>2.332884e-07</td>\n",
       "      <td>1</td>\n",
       "      <td>0</td>\n",
       "    </tr>\n",
       "    <tr>\n",
       "      <th>3109</th>\n",
       "      <td>春光乍好，和恋人一起去一个向往已久的地方，抛开工作和学业，开启无忧无虑的嗨嗨嗨模式吧～\\n这...</td>\n",
       "      <td>1.000000e+00</td>\n",
       "      <td>1</td>\n",
       "      <td>1</td>\n",
       "    </tr>\n",
       "    <tr>\n",
       "      <th>3110</th>\n",
       "      <td>最近几天去过，很肮脏！垃圾遍布沙滩，人屎狗屎很多！搭的大小帐篷到处都是！整个浴场弥漫着垃圾的...</td>\n",
       "      <td>6.031790e-02</td>\n",
       "      <td>0</td>\n",
       "      <td>0</td>\n",
       "    </tr>\n",
       "    <tr>\n",
       "      <th>3111</th>\n",
       "      <td>冬天有很多在这里游泳的，真不错。</td>\n",
       "      <td>9.195267e-01</td>\n",
       "      <td>1</td>\n",
       "      <td>1</td>\n",
       "    </tr>\n",
       "  </tbody>\n",
       "</table>\n",
       "<p>3112 rows × 4 columns</p>\n",
       "</div>"
      ],
      "text/plain": [
       "                                               comments    sentiments  grade  \\\n",
       "0                                           不错接着期待还带孩子来  9.828904e-01      1   \n",
       "1                                                     好  6.558628e-01      1   \n",
       "2                                               方便快捷，实惠  8.213507e-01      0   \n",
       "3     还要押金十块。。对象不知道押金的事，洗完出门的时候看前面女的把钥匙给门口大姨，她也把钥匙给门...  1.053449e-05      0   \n",
       "4                                      服务不好！环境不好！洗澡水太冷！  4.819800e-03      0   \n",
       "...                                                 ...           ...    ...   \n",
       "3107                                    这里的海水比较干净适合洗海澡。  5.837657e-01      1   \n",
       "3108                千万别再对面的街上吃饭，宰客很严重，一斤半的鱼能称重3斤。一个馒头两块  2.332884e-07      1   \n",
       "3109  春光乍好，和恋人一起去一个向往已久的地方，抛开工作和学业，开启无忧无虑的嗨嗨嗨模式吧～\\n这...  1.000000e+00      1   \n",
       "3110  最近几天去过，很肮脏！垃圾遍布沙滩，人屎狗屎很多！搭的大小帐篷到处都是！整个浴场弥漫着垃圾的...  6.031790e-02      0   \n",
       "3111                                   冬天有很多在这里游泳的，真不错。  9.195267e-01      1   \n",
       "\n",
       "      labels  \n",
       "0          1  \n",
       "1          1  \n",
       "2          1  \n",
       "3          0  \n",
       "4          0  \n",
       "...      ...  \n",
       "3107       1  \n",
       "3108       0  \n",
       "3109       1  \n",
       "3110       0  \n",
       "3111       1  \n",
       "\n",
       "[3112 rows x 4 columns]"
      ]
     },
     "execution_count": 12,
     "metadata": {},
     "output_type": "execute_result"
    }
   ],
   "source": [
    "df['labels'] = df['sentiments'].apply(convert_grades)\n",
    "df"
   ]
  },
  {
   "cell_type": "code",
   "execution_count": 13,
   "metadata": {
    "ExecuteTime": {
     "end_time": "2021-08-24T05:12:15.736424Z",
     "start_time": "2021-08-24T05:12:15.721432Z"
    }
   },
   "outputs": [
    {
     "data": {
      "text/plain": [
       "grade\n",
       "0     255\n",
       "1    2857\n",
       "Name: grade, dtype: int64"
      ]
     },
     "execution_count": 13,
     "metadata": {},
     "output_type": "execute_result"
    }
   ],
   "source": [
    "df['grade'].groupby(df['grade']).count()"
   ]
  },
  {
   "cell_type": "markdown",
   "metadata": {},
   "source": [
    "# 评论分类"
   ]
  },
  {
   "cell_type": "code",
   "execution_count": 14,
   "metadata": {
    "ExecuteTime": {
     "end_time": "2021-08-24T05:12:15.767455Z",
     "start_time": "2021-08-24T05:12:15.737391Z"
    }
   },
   "outputs": [],
   "source": [
    "df_postive = copy.deepcopy(df[df['labels'] == 1])\n",
    "df_negative = copy.deepcopy(df[df['labels'] == 0])"
   ]
  },
  {
   "cell_type": "code",
   "execution_count": 15,
   "metadata": {
    "ExecuteTime": {
     "end_time": "2021-08-24T05:12:15.782539Z",
     "start_time": "2021-08-24T05:12:15.768380Z"
    }
   },
   "outputs": [],
   "source": [
    "df_postive = copy.deepcopy(df[df['grade'] == 1])\n",
    "df_negative = copy.deepcopy(df[df['grade'] == 0])"
   ]
  },
  {
   "cell_type": "code",
   "execution_count": 16,
   "metadata": {
    "ExecuteTime": {
     "end_time": "2021-08-24T05:12:15.798203Z",
     "start_time": "2021-08-24T05:12:15.783240Z"
    }
   },
   "outputs": [
    {
     "data": {
      "text/html": [
       "<div>\n",
       "<style scoped>\n",
       "    .dataframe tbody tr th:only-of-type {\n",
       "        vertical-align: middle;\n",
       "    }\n",
       "\n",
       "    .dataframe tbody tr th {\n",
       "        vertical-align: top;\n",
       "    }\n",
       "\n",
       "    .dataframe thead th {\n",
       "        text-align: right;\n",
       "    }\n",
       "</style>\n",
       "<table border=\"1\" class=\"dataframe\">\n",
       "  <thead>\n",
       "    <tr style=\"text-align: right;\">\n",
       "      <th></th>\n",
       "      <th>comments</th>\n",
       "      <th>sentiments</th>\n",
       "      <th>grade</th>\n",
       "      <th>labels</th>\n",
       "    </tr>\n",
       "  </thead>\n",
       "  <tbody>\n",
       "    <tr>\n",
       "      <th>0</th>\n",
       "      <td>不错接着期待还带孩子来</td>\n",
       "      <td>0.982890</td>\n",
       "      <td>1</td>\n",
       "      <td>1</td>\n",
       "    </tr>\n",
       "    <tr>\n",
       "      <th>1</th>\n",
       "      <td>好</td>\n",
       "      <td>0.655863</td>\n",
       "      <td>1</td>\n",
       "      <td>1</td>\n",
       "    </tr>\n",
       "    <tr>\n",
       "      <th>5</th>\n",
       "      <td>99号小伙子，手法很好，超酸爽。过瘾，支持！</td>\n",
       "      <td>0.997289</td>\n",
       "      <td>1</td>\n",
       "      <td>1</td>\n",
       "    </tr>\n",
       "    <tr>\n",
       "      <th>6</th>\n",
       "      <td>强烈推荐。多运动 多睡觉 少吃零食 后脑勺不要冒泡 [笑哈哈]嗯😊我最喜欢三月的风，四月的雨...</td>\n",
       "      <td>0.996967</td>\n",
       "      <td>1</td>\n",
       "      <td>1</td>\n",
       "    </tr>\n",
       "    <tr>\n",
       "      <th>7</th>\n",
       "      <td>其实已经过了很久了美团还是让评价，很不错哟，跟闺蜜玩得很开心，是个好地方，就是要做好防晒哟，推荐～</td>\n",
       "      <td>0.999643</td>\n",
       "      <td>1</td>\n",
       "      <td>1</td>\n",
       "    </tr>\n",
       "  </tbody>\n",
       "</table>\n",
       "</div>"
      ],
      "text/plain": [
       "                                            comments  sentiments  grade  \\\n",
       "0                                        不错接着期待还带孩子来    0.982890      1   \n",
       "1                                                  好    0.655863      1   \n",
       "5                             99号小伙子，手法很好，超酸爽。过瘾，支持！    0.997289      1   \n",
       "6  强烈推荐。多运动 多睡觉 少吃零食 后脑勺不要冒泡 [笑哈哈]嗯😊我最喜欢三月的风，四月的雨...    0.996967      1   \n",
       "7  其实已经过了很久了美团还是让评价，很不错哟，跟闺蜜玩得很开心，是个好地方，就是要做好防晒哟，推荐～    0.999643      1   \n",
       "\n",
       "   labels  \n",
       "0       1  \n",
       "1       1  \n",
       "5       1  \n",
       "6       1  \n",
       "7       1  "
      ]
     },
     "execution_count": 16,
     "metadata": {},
     "output_type": "execute_result"
    }
   ],
   "source": [
    "df_postive.head()"
   ]
  },
  {
   "cell_type": "code",
   "execution_count": 17,
   "metadata": {
    "ExecuteTime": {
     "end_time": "2021-08-24T05:12:15.814160Z",
     "start_time": "2021-08-24T05:12:15.799201Z"
    }
   },
   "outputs": [],
   "source": [
    "comments_postive = df_postive['comments'].tolist()\n",
    "comments_negative = df_negative['comments'].tolist()"
   ]
  },
  {
   "cell_type": "code",
   "execution_count": 18,
   "metadata": {
    "ExecuteTime": {
     "end_time": "2021-08-24T05:12:15.829337Z",
     "start_time": "2021-08-24T05:12:15.817152Z"
    }
   },
   "outputs": [],
   "source": [
    "# 输入 comments：['xcbak','hxail sfv ssf','xanil dqa']\n",
    "def commens_processing(comments):\n",
    "    pattern = re.compile(u'\\t|\\n|\\.|-|:|;|\\)|\\(|\\?|\"')  # 定义正则表达式匹配模式\n",
    "    punctuation_list = punctuation+string.punctuation+\" \"\n",
    "    com = []\n",
    "    for index, value in enumerate(comments):\n",
    "        for pun in punctuation_list:  # 去掉标点\n",
    "            value = value.replace(pun, '')\n",
    "        value = re.sub(pattern, '', value)  # 将符合模式的字符去除\n",
    "        seg_list_exact = jieba.lcut(value, cut_all=False)  # 精确模式分词\n",
    "        comments_seg = []\n",
    "        for word in seg_list_exact:\n",
    "            if word not in stopwords:\n",
    "                comments_seg.append(word)\n",
    "        if comments_seg:\n",
    "            com.append(comments_seg)\n",
    "    return com"
   ]
  },
  {
   "cell_type": "markdown",
   "metadata": {},
   "source": [
    "# LDA主题模型"
   ]
  },
  {
   "cell_type": "code",
   "execution_count": 19,
   "metadata": {
    "ExecuteTime": {
     "end_time": "2021-08-24T05:12:15.844656Z",
     "start_time": "2021-08-24T05:12:15.830336Z"
    }
   },
   "outputs": [],
   "source": [
    "def lda(text, topic=10):\n",
    "    dictionary = Dictionary(text)\n",
    "    doc_term_matrix = [dictionary.doc2bow(doc) for doc in text]\n",
    "    ldamodel = LdaModel(doc_term_matrix, num_topics=5,\n",
    "                        id2word=dictionary, passes=10)\n",
    "    pprint(ldamodel.print_topics(num_topics=5, num_words=10))"
   ]
  },
  {
   "cell_type": "code",
   "execution_count": 20,
   "metadata": {
    "ExecuteTime": {
     "end_time": "2021-08-24T05:12:28.894475Z",
     "start_time": "2021-08-24T05:12:15.845655Z"
    }
   },
   "outputs": [
    {
     "name": "stdout",
     "output_type": "stream",
     "text": [
      "[(0,\n",
      "  '0.030*\"海水浴场\" + 0.021*\"浴场\" + 0.012*\"八大关\" + 0.011*\"石老人\" + 0.010*\"沙滩\" + '\n",
      "  '0.009*\"第一\" + 0.008*\"太平\" + 0.008*\"海边\" + 0.007*\"地方\" + 0.006*\"第三\"'),\n",
      " (1,\n",
      "  '0.033*\"沙滩\" + 0.022*\"金沙滩\" + 0.016*\"沙子\" + 0.009*\"吹\" + 0.008*\"孩子\" + 0.007*\"海风\" '\n",
      "  '+ 0.007*\"螃蟹\" + 0.007*\"细腻\" + 0.006*\"海边\" + 0.006*\"沙质\"'),\n",
      " (2,\n",
      "  '0.028*\"不错\" + 0.027*\"沙滩\" + 0.027*\"海水\" + 0.024*\"沙子\" + 0.023*\"干净\" + '\n",
      "  '0.013*\"海水浴场\" + 0.013*\"金沙滩\" + 0.012*\"特别\" + 0.011*\"海边\" + 0.010*\"地方\"'),\n",
      " (3,\n",
      "  '0.019*\"海水浴场\" + 0.012*\"八大关\" + 0.011*\"石老人\" + 0.011*\"路\" + 0.008*\"石楼\" + '\n",
      "  '0.007*\"海边\" + 0.007*\"海滩\" + 0.007*\"拍照\" + 0.006*\"花\" + 0.005*\"度假\"'),\n",
      " (4,\n",
      "  '0.026*\"海水浴场\" + 0.009*\"八大关\" + 0.008*\"夏季\" + 0.006*\"不错\" + 0.006*\"相邻\" + '\n",
      "  '0.006*\"游泳\" + 0.006*\"环境\" + 0.005*\"浴场\" + 0.005*\"别墅区\" + 0.005*\"季节\"')]\n"
     ]
    }
   ],
   "source": [
    "text = commens_processing(comments_postive)\n",
    "lda(text)"
   ]
  },
  {
   "cell_type": "code",
   "execution_count": 21,
   "metadata": {
    "ExecuteTime": {
     "end_time": "2021-08-24T05:12:30.211961Z",
     "start_time": "2021-08-24T05:12:28.896507Z"
    }
   },
   "outputs": [
    {
     "name": "stdout",
     "output_type": "stream",
     "text": [
      "[(0,\n",
      "  '0.011*\"浴场\" + 0.010*\"说\" + 0.008*\"垃圾\" + 0.008*\"押金\" + 0.007*\"游客\" + 0.007*\"行\" + '\n",
      "  '0.007*\"沙子\" + 0.007*\"感觉\" + 0.007*\"孩子\" + 0.007*\"凉\"'),\n",
      " (1,\n",
      "  '0.011*\"点\" + 0.009*\"服务态度\" + 0.008*\"不好\" + 0.008*\"沙滩\" + 0.007*\"垃圾\" + '\n",
      "  '0.006*\"金沙滩\" + 0.006*\"地方\" + 0.006*\"孩子\" + 0.006*\"一会\" + 0.006*\"环境\"'),\n",
      " (2,\n",
      "  '0.011*\"感觉\" + 0.009*\"孩子\" + 0.008*\"凉水\" + 0.007*\"不好\" + 0.007*\"海水\" + 0.007*\"元\" '\n",
      "  '+ 0.007*\"海边\" + 0.006*\"失望\" + 0.006*\"沙滩\" + 0.005*\"说\"'),\n",
      " (3,\n",
      "  '0.021*\"收费\" + 0.011*\"说\" + 0.011*\"沙滩\" + 0.011*\"地方\" + 0.009*\"浴场\" + '\n",
      "  '0.008*\"海水浴场\" + 0.008*\"游泳\" + 0.007*\"元\" + 0.005*\"失望\" + 0.005*\"垃圾\"'),\n",
      " (4,\n",
      "  '0.020*\"说\" + 0.013*\"不好\" + 0.010*\"态度\" + 0.008*\"钱\" + 0.008*\"收费\" + 0.007*\"地方\" + '\n",
      "  '0.007*\"沙滩\" + 0.006*\"贵\" + 0.006*\"坐\" + 0.006*\"洗澡\"')]\n"
     ]
    }
   ],
   "source": [
    "text = commens_processing(comments_negative)\n",
    "lda(text)"
   ]
  },
  {
   "cell_type": "code",
   "execution_count": null,
   "metadata": {},
   "outputs": [],
   "source": []
  }
 ],
 "metadata": {
  "kernelspec": {
   "display_name": "Python 3",
   "language": "python",
   "name": "python3"
  },
  "language_info": {
   "codemirror_mode": {
    "name": "ipython",
    "version": 3
   },
   "file_extension": ".py",
   "mimetype": "text/x-python",
   "name": "python",
   "nbconvert_exporter": "python",
   "pygments_lexer": "ipython3",
   "version": "3.8.5"
  },
  "toc": {
   "base_numbering": 1,
   "nav_menu": {},
   "number_sections": true,
   "sideBar": true,
   "skip_h1_title": false,
   "title_cell": "Table of Contents",
   "title_sidebar": "Contents",
   "toc_cell": false,
   "toc_position": {},
   "toc_section_display": true,
   "toc_window_display": false
  },
  "varInspector": {
   "cols": {
    "lenName": 16,
    "lenType": 16,
    "lenVar": 40
   },
   "kernels_config": {
    "python": {
     "delete_cmd_postfix": "",
     "delete_cmd_prefix": "del ",
     "library": "var_list.py",
     "varRefreshCmd": "print(var_dic_list())"
    },
    "r": {
     "delete_cmd_postfix": ") ",
     "delete_cmd_prefix": "rm(",
     "library": "var_list.r",
     "varRefreshCmd": "cat(var_dic_list()) "
    }
   },
   "types_to_exclude": [
    "module",
    "function",
    "builtin_function_or_method",
    "instance",
    "_Feature"
   ],
   "window_display": false
  }
 },
 "nbformat": 4,
 "nbformat_minor": 4
}
