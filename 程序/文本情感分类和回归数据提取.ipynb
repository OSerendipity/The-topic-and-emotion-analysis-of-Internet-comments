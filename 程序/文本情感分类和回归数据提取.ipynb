{
 "cells": [
  {
   "cell_type": "markdown",
   "metadata": {},
   "source": [
    "# 导入库"
   ]
  },
  {
   "cell_type": "code",
   "execution_count": 1,
   "metadata": {
    "ExecuteTime": {
     "end_time": "2021-08-31T06:33:32.200310Z",
     "start_time": "2021-08-31T06:33:25.943015Z"
    }
   },
   "outputs": [
    {
     "name": "stderr",
     "output_type": "stream",
     "text": [
      "D:\\Anaconda3-2021.05\\lib\\site-packages\\gensim\\similarities\\__init__.py:15: UserWarning: The gensim.similarities.levenshtein submodule is disabled, because the optional Levenshtein package <https://pypi.org/project/python-Levenshtein/> is unavailable. Install Levenhstein (e.g. `pip install python-Levenshtein`) to suppress this warning.\n",
      "  warnings.warn(msg)\n"
     ]
    }
   ],
   "source": [
    "import pandas as pd\n",
    "import numpy as np\n",
    "#import numpy as np#for key in sandbeachlist\n",
    "from snownlp import SnowNLP\n",
    "from snownlp import sentiment\n",
    "from zhon.hanzi import punctuation\n",
    "import string\n",
    "import re\n",
    "import jieba\n",
    "import copy\n",
    "from gensim.corpora import Dictionary\n",
    "from pprint import pprint\n",
    "from gensim.models.ldamodel import LdaModel\n",
    "from sklearn.feature_extraction.text import CountVectorizer\n",
    "from sklearn.naive_bayes import MultinomialNB\n",
    "import warnings\n",
    "warnings.filterwarnings(\"ignore\")"
   ]
  },
  {
   "cell_type": "markdown",
   "metadata": {
    "heading_collapsed": true
   },
   "source": [
    "# 定义景区名称、加载停用词"
   ]
  },
  {
   "cell_type": "code",
   "execution_count": 2,
   "metadata": {
    "ExecuteTime": {
     "end_time": "2021-08-31T06:33:42.880777Z",
     "start_time": "2021-08-31T06:33:42.875789Z"
    },
    "hidden": true
   },
   "outputs": [],
   "source": [
    "name = ['第一海水浴场', '青岛水族馆', '青岛海底世界', '青岛海昌极地海洋公园', '青岛海泉湾海洋之星摩天轮',\n",
    "        '黄岛金沙滩', '石老人海水浴场', '第二海水浴场', '第三海水浴场', '琴岛之眼摩天轮', '栈桥', '青岛奥帆中心', '小青岛', '琅琊台风景区']\n",
    "sandbeach = ['第一海水浴场', '黄岛金沙滩', '石老人海水浴场', '第二海水浴场', '第三海水浴场']\n",
    "aquarium = ['青岛水族馆', '青岛海底世界', '青岛海昌极地海洋公园']\n",
    "skywheel = ['青岛海泉湾海洋之星摩天轮', '琴岛之眼摩天轮']\n",
    "park = ['栈桥', '青岛奥帆中心', '小青岛', '琅琊台风景区']"
   ]
  },
  {
   "cell_type": "code",
   "execution_count": 3,
   "metadata": {
    "ExecuteTime": {
     "end_time": "2021-08-31T06:33:44.526379Z",
     "start_time": "2021-08-31T06:33:44.507429Z"
    },
    "hidden": true
   },
   "outputs": [],
   "source": [
    "with open('stopwords.txt', 'r', newline='', encoding='utf-8') as txtfile:\n",
    "    stopwords = txtfile.read().split('\\r\\n')"
   ]
  },
  {
   "cell_type": "markdown",
   "metadata": {
    "heading_collapsed": true
   },
   "source": [
    "# 贝叶斯分类模型训练"
   ]
  },
  {
   "cell_type": "code",
   "execution_count": 4,
   "metadata": {
    "ExecuteTime": {
     "end_time": "2021-08-31T06:33:49.853539Z",
     "start_time": "2021-08-31T06:33:49.845559Z"
    },
    "hidden": true
   },
   "outputs": [],
   "source": [
    "def load_corpus(path):\n",
    "    data = []\n",
    "    with open(path, \"r\", encoding=\"utf8\") as f:\n",
    "        for line in f:\n",
    "            [_, seniment, content] = line.split(\",\", 2)\n",
    "            content = processing(content)\n",
    "            data.append((content, int(seniment)))\n",
    "    return data\n",
    "\n",
    "\n",
    "def processing(text):\n",
    "    text = re.sub(\"\\{%.+?%\\}\", \" \", text)\n",
    "    text = re.sub(\"@.+?( |$)\", \" \", text)\n",
    "    text = re.sub(\"【.+?】\", \" \", text)\n",
    "    text = re.sub(\"\\u200b\", \" \", text)\n",
    "    words = [w for w in jieba.lcut(text) if w.isalpha()]\n",
    "    while \"不\" in words:\n",
    "        index = words.index(\"不\")\n",
    "        if index == len(words) - 1:\n",
    "            break\n",
    "        words[index: index+2] = [\"\".join(words[index: index+2])]\n",
    "    result = \" \".join(words)\n",
    "    return result"
   ]
  },
  {
   "cell_type": "code",
   "execution_count": 5,
   "metadata": {
    "ExecuteTime": {
     "end_time": "2021-08-31T06:33:56.473933Z",
     "start_time": "2021-08-31T06:33:50.964689Z"
    },
    "hidden": true
   },
   "outputs": [
    {
     "name": "stderr",
     "output_type": "stream",
     "text": [
      "Building prefix dict from the default dictionary ...\n",
      "Loading model from cache C:\\Users\\86178\\AppData\\Local\\Temp\\jieba.cache\n",
      "Loading model cost 0.733 seconds.\n",
      "Prefix dict has been built successfully.\n"
     ]
    },
    {
     "data": {
      "text/plain": [
       "MultinomialNB(alpha=1.0, class_prior=None, fit_prior=True)"
      ]
     },
     "execution_count": 5,
     "metadata": {},
     "output_type": "execute_result"
    }
   ],
   "source": [
    "TRAIN_PATH = \"train.txt\"\n",
    "train_data = load_corpus(TRAIN_PATH)\n",
    "df_train = pd.DataFrame(train_data, columns=[\"words\", \"label\"])\n",
    "df_train.head()\n",
    "vectorizer = CountVectorizer(token_pattern='\\[?\\w+\\]?', stop_words=stopwords)\n",
    "X_train = vectorizer.fit_transform(df_train[\"words\"])\n",
    "y_train = df_train[\"label\"]\n",
    "clf = MultinomialNB()\n",
    "clf.fit(X_train, y_train)"
   ]
  },
  {
   "cell_type": "markdown",
   "metadata": {
    "heading_collapsed": true
   },
   "source": [
    "# 评论读取以及标签"
   ]
  },
  {
   "cell_type": "code",
   "execution_count": 103,
   "metadata": {
    "ExecuteTime": {
     "end_time": "2021-08-31T07:23:29.069685Z",
     "start_time": "2021-08-31T07:08:00.003188Z"
    },
    "hidden": true
   },
   "outputs": [],
   "source": [
    "comments = []\n",
    "star_level=[]\n",
    "score = []\n",
    "scenic_spot=[]\n",
    "for index, place in enumerate(aquarium):\n",
    "    path = 'clean_data/'+place+'new_.csv'\n",
    "    data = pd.read_csv(path)\n",
    "    for i in range(len(data['评论'])):\n",
    "        comments.append(data['评论'][i])\n",
    "        star_level.append(data['得分'][i])\n",
    "        scenic_spot.append(place)\n",
    "        score.append(SnowNLP(data['评论'][i]).sentiments)"
   ]
  },
  {
   "cell_type": "code",
   "execution_count": 104,
   "metadata": {
    "ExecuteTime": {
     "end_time": "2021-08-31T07:25:27.471527Z",
     "start_time": "2021-08-31T07:25:27.466540Z"
    },
    "hidden": true
   },
   "outputs": [],
   "source": [
    "def process(comments):\n",
    "    pattern = re.compile(u'\\t|\\n|\\.|-|:|;|\\)|\\(|\\?|\"')\n",
    "    punctuation_list = punctuation+string.punctuation+\" \"\n",
    "    for pun in punctuation_list:\n",
    "        comments = comments.replace(pun, '')\n",
    "    comments = re.sub(pattern, ' ', comments)\n",
    "    seg_list_exact = jieba.lcut(comments, cut_all=False)\n",
    "    return ' '.join(seg_list_exact)"
   ]
  },
  {
   "cell_type": "code",
   "execution_count": 105,
   "metadata": {
    "ExecuteTime": {
     "end_time": "2021-08-31T07:25:57.367531Z",
     "start_time": "2021-08-31T07:25:30.162127Z"
    },
    "hidden": true
   },
   "outputs": [],
   "source": [
    "words = [process(s) for s in comments]\n",
    "vec = vectorizer.transform(words)\n",
    "grade = clf.predict(vec)"
   ]
  },
  {
   "cell_type": "markdown",
   "metadata": {
    "heading_collapsed": true,
    "hidden": true
   },
   "source": [
    "## 提取回归所用的数据"
   ]
  },
  {
   "cell_type": "code",
   "execution_count": 107,
   "metadata": {
    "ExecuteTime": {
     "end_time": "2021-08-31T07:27:18.894821Z",
     "start_time": "2021-08-31T07:27:18.802070Z"
    },
    "hidden": true
   },
   "outputs": [
    {
     "data": {
      "text/html": [
       "<div>\n",
       "<style scoped>\n",
       "    .dataframe tbody tr th:only-of-type {\n",
       "        vertical-align: middle;\n",
       "    }\n",
       "\n",
       "    .dataframe tbody tr th {\n",
       "        vertical-align: top;\n",
       "    }\n",
       "\n",
       "    .dataframe thead th {\n",
       "        text-align: right;\n",
       "    }\n",
       "</style>\n",
       "<table border=\"1\" class=\"dataframe\">\n",
       "  <thead>\n",
       "    <tr style=\"text-align: right;\">\n",
       "      <th></th>\n",
       "      <th>comments</th>\n",
       "      <th>sentiments</th>\n",
       "      <th>grade</th>\n",
       "      <th>score</th>\n",
       "      <th>ScenicSpot</th>\n",
       "    </tr>\n",
       "  </thead>\n",
       "  <tbody>\n",
       "    <tr>\n",
       "      <th>0</th>\n",
       "      <td>非常满意</td>\n",
       "      <td>0.705347</td>\n",
       "      <td>1</td>\n",
       "      <td>5.0</td>\n",
       "      <td>青岛水族馆</td>\n",
       "    </tr>\n",
       "    <tr>\n",
       "      <th>1</th>\n",
       "      <td>很不错，挺好的。</td>\n",
       "      <td>0.980408</td>\n",
       "      <td>1</td>\n",
       "      <td>4.0</td>\n",
       "      <td>青岛水族馆</td>\n",
       "    </tr>\n",
       "    <tr>\n",
       "      <th>2</th>\n",
       "      <td>好</td>\n",
       "      <td>0.655863</td>\n",
       "      <td>1</td>\n",
       "      <td>5.0</td>\n",
       "      <td>青岛水族馆</td>\n",
       "    </tr>\n",
       "    <tr>\n",
       "      <th>3</th>\n",
       "      <td>挺好的</td>\n",
       "      <td>0.828425</td>\n",
       "      <td>1</td>\n",
       "      <td>5.0</td>\n",
       "      <td>青岛水族馆</td>\n",
       "    </tr>\n",
       "    <tr>\n",
       "      <th>4</th>\n",
       "      <td>非常好，</td>\n",
       "      <td>0.655863</td>\n",
       "      <td>1</td>\n",
       "      <td>5.0</td>\n",
       "      <td>青岛水族馆</td>\n",
       "    </tr>\n",
       "    <tr>\n",
       "      <th>...</th>\n",
       "      <td>...</td>\n",
       "      <td>...</td>\n",
       "      <td>...</td>\n",
       "      <td>...</td>\n",
       "      <td>...</td>\n",
       "    </tr>\n",
       "    <tr>\n",
       "      <th>130818</th>\n",
       "      <td>还不错 值得去一趟</td>\n",
       "      <td>0.968345</td>\n",
       "      <td>1</td>\n",
       "      <td>5.0</td>\n",
       "      <td>青岛海昌极地海洋公园</td>\n",
       "    </tr>\n",
       "    <tr>\n",
       "      <th>130819</th>\n",
       "      <td>速度太慢服务太差</td>\n",
       "      <td>0.044576</td>\n",
       "      <td>0</td>\n",
       "      <td>1.0</td>\n",
       "      <td>青岛海昌极地海洋公园</td>\n",
       "    </tr>\n",
       "    <tr>\n",
       "      <th>130820</th>\n",
       "      <td>感覺一般</td>\n",
       "      <td>0.291799</td>\n",
       "      <td>1</td>\n",
       "      <td>3.0</td>\n",
       "      <td>青岛海昌极地海洋公园</td>\n",
       "    </tr>\n",
       "    <tr>\n",
       "      <th>130821</th>\n",
       "      <td>人太多了啊</td>\n",
       "      <td>0.385037</td>\n",
       "      <td>1</td>\n",
       "      <td>4.0</td>\n",
       "      <td>青岛海昌极地海洋公园</td>\n",
       "    </tr>\n",
       "    <tr>\n",
       "      <th>130822</th>\n",
       "      <td>带着孩子一起来的本来感觉没有大的希望了，结果进到冰雪乐园孩子玩疯了，叫了好几遍都不出来，小朋...</td>\n",
       "      <td>0.985224</td>\n",
       "      <td>1</td>\n",
       "      <td>5.0</td>\n",
       "      <td>青岛海昌极地海洋公园</td>\n",
       "    </tr>\n",
       "  </tbody>\n",
       "</table>\n",
       "<p>130823 rows × 5 columns</p>\n",
       "</div>"
      ],
      "text/plain": [
       "                                                 comments  sentiments  grade  \\\n",
       "0                                                    非常满意    0.705347      1   \n",
       "1                                                很不错，挺好的。    0.980408      1   \n",
       "2                                                       好    0.655863      1   \n",
       "3                                                     挺好的    0.828425      1   \n",
       "4                                                    非常好，    0.655863      1   \n",
       "...                                                   ...         ...    ...   \n",
       "130818                                          还不错 值得去一趟    0.968345      1   \n",
       "130819                                           速度太慢服务太差    0.044576      0   \n",
       "130820                                               感覺一般    0.291799      1   \n",
       "130821                                              人太多了啊    0.385037      1   \n",
       "130822  带着孩子一起来的本来感觉没有大的希望了，结果进到冰雪乐园孩子玩疯了，叫了好几遍都不出来，小朋...    0.985224      1   \n",
       "\n",
       "        score  ScenicSpot  \n",
       "0         5.0       青岛水族馆  \n",
       "1         4.0       青岛水族馆  \n",
       "2         5.0       青岛水族馆  \n",
       "3         5.0       青岛水族馆  \n",
       "4         5.0       青岛水族馆  \n",
       "...       ...         ...  \n",
       "130818    5.0  青岛海昌极地海洋公园  \n",
       "130819    1.0  青岛海昌极地海洋公园  \n",
       "130820    3.0  青岛海昌极地海洋公园  \n",
       "130821    4.0  青岛海昌极地海洋公园  \n",
       "130822    5.0  青岛海昌极地海洋公园  \n",
       "\n",
       "[130823 rows x 5 columns]"
      ]
     },
     "execution_count": 107,
     "metadata": {},
     "output_type": "execute_result"
    }
   ],
   "source": [
    "df = pd.DataFrame({'comments': comments, 'sentiments': score, 'grade': grade,'score':star_level,'ScenicSpot':scenic_spot})\n",
    "df"
   ]
  },
  {
   "cell_type": "code",
   "execution_count": 120,
   "metadata": {
    "ExecuteTime": {
     "end_time": "2021-08-31T07:41:23.264023Z",
     "start_time": "2021-08-31T07:41:22.599259Z"
    },
    "hidden": true
   },
   "outputs": [],
   "source": [
    "df.to_csv('aquarium.csv',encoding='utf-8-sig',index=False)"
   ]
  },
  {
   "cell_type": "code",
   "execution_count": 108,
   "metadata": {
    "ExecuteTime": {
     "end_time": "2021-08-31T07:27:22.323841Z",
     "start_time": "2021-08-31T07:27:22.315862Z"
    },
    "hidden": true
   },
   "outputs": [],
   "source": [
    "sandbeach = ['第一海水浴场', '黄岛金沙滩', '石老人海水浴场', '第二海水浴场']#, '第三海水浴场'\n",
    "aquarium = ['青岛水族馆', '青岛海底世界', '青岛海昌极地海洋公园']\n",
    "skywheel = ['青岛海泉湾海洋之星摩天轮', '琴岛之眼摩天轮']\n",
    "park = ['栈桥', '青岛奥帆中心', '小青岛', '琅琊台风景区']\n",
    "\n",
    "sandbeachlist=['环境','交通','价格','设施','景色']\n",
    "aquariumlist=['环境','交通','价格','设施','表演','服务态度','时间']#\n",
    "skywheellist=['环境','交通','价格','设施','服务']\n",
    "parklist=['环境','交通','价格','设施','天气']"
   ]
  },
  {
   "cell_type": "code",
   "execution_count": 109,
   "metadata": {
    "ExecuteTime": {
     "end_time": "2021-08-31T07:27:29.538992Z",
     "start_time": "2021-08-31T07:27:29.531982Z"
    },
    "hidden": true
   },
   "outputs": [],
   "source": [
    "def get_fea_dict(spots,spotlist,df):\n",
    "    name_fea={}\n",
    "    for spot in spots:\n",
    "        tmp_df=df[df['ScenicSpot']==spot]\n",
    "        tmp_df=tmp_df.reset_index(drop=True)\n",
    "        standard=[np.mean([df['sentiments'][i] for i in range(df.shape[0]) if key in df['comments'][i]]) for key in spotlist]\n",
    "        tmp_score=[np.mean([tmp_df['sentiments'][i] for i in range(tmp_df.shape[0]) if key in tmp_df['comments'][i]]) for key in spotlist]\n",
    "        print(standard,tmp_score)\n",
    "        ls=[]\n",
    "        for i,j in zip(standard,tmp_score):\n",
    "            if i<j:\n",
    "                ls.append(1)\n",
    "            else:\n",
    "                ls.append(0)\n",
    "        name_fea[spot]=ls\n",
    "    return name_fea,standard,tmp_score\n",
    "\n",
    "name_fea,standard,tmp_score=get_fea_dict(aquarium,aquariumlist,df)"
   ]
  },
  {
   "cell_type": "code",
   "execution_count": 115,
   "metadata": {
    "ExecuteTime": {
     "end_time": "2021-08-31T07:29:20.662827Z",
     "start_time": "2021-08-31T07:29:20.658837Z"
    },
    "hidden": true
   },
   "outputs": [],
   "source": [
    "def convert_grades(score):\n",
    "    if score >= 0.7:\n",
    "        return \"pretty good\"\n",
    "    elif score <= 0.3:\n",
    "        return \"pretty bad\"\n",
    "    else:\n",
    "        return \"just so so\""
   ]
  },
  {
   "cell_type": "code",
   "execution_count": 116,
   "metadata": {
    "ExecuteTime": {
     "end_time": "2021-08-31T07:29:21.206445Z",
     "start_time": "2021-08-31T07:29:21.158522Z"
    },
    "hidden": true
   },
   "outputs": [
    {
     "data": {
      "text/html": [
       "<div>\n",
       "<style scoped>\n",
       "    .dataframe tbody tr th:only-of-type {\n",
       "        vertical-align: middle;\n",
       "    }\n",
       "\n",
       "    .dataframe tbody tr th {\n",
       "        vertical-align: top;\n",
       "    }\n",
       "\n",
       "    .dataframe thead th {\n",
       "        text-align: right;\n",
       "    }\n",
       "</style>\n",
       "<table border=\"1\" class=\"dataframe\">\n",
       "  <thead>\n",
       "    <tr style=\"text-align: right;\">\n",
       "      <th></th>\n",
       "      <th>comments</th>\n",
       "      <th>sentiments</th>\n",
       "      <th>grade</th>\n",
       "      <th>score</th>\n",
       "      <th>ScenicSpot</th>\n",
       "      <th>labels</th>\n",
       "    </tr>\n",
       "  </thead>\n",
       "  <tbody>\n",
       "    <tr>\n",
       "      <th>0</th>\n",
       "      <td>非常满意</td>\n",
       "      <td>0.705347</td>\n",
       "      <td>1</td>\n",
       "      <td>5.0</td>\n",
       "      <td>青岛水族馆</td>\n",
       "      <td>pretty good</td>\n",
       "    </tr>\n",
       "    <tr>\n",
       "      <th>1</th>\n",
       "      <td>很不错，挺好的。</td>\n",
       "      <td>0.980408</td>\n",
       "      <td>1</td>\n",
       "      <td>4.0</td>\n",
       "      <td>青岛水族馆</td>\n",
       "      <td>pretty good</td>\n",
       "    </tr>\n",
       "    <tr>\n",
       "      <th>2</th>\n",
       "      <td>好</td>\n",
       "      <td>0.655863</td>\n",
       "      <td>1</td>\n",
       "      <td>5.0</td>\n",
       "      <td>青岛水族馆</td>\n",
       "      <td>just so so</td>\n",
       "    </tr>\n",
       "    <tr>\n",
       "      <th>3</th>\n",
       "      <td>挺好的</td>\n",
       "      <td>0.828425</td>\n",
       "      <td>1</td>\n",
       "      <td>5.0</td>\n",
       "      <td>青岛水族馆</td>\n",
       "      <td>pretty good</td>\n",
       "    </tr>\n",
       "    <tr>\n",
       "      <th>4</th>\n",
       "      <td>非常好，</td>\n",
       "      <td>0.655863</td>\n",
       "      <td>1</td>\n",
       "      <td>5.0</td>\n",
       "      <td>青岛水族馆</td>\n",
       "      <td>just so so</td>\n",
       "    </tr>\n",
       "    <tr>\n",
       "      <th>...</th>\n",
       "      <td>...</td>\n",
       "      <td>...</td>\n",
       "      <td>...</td>\n",
       "      <td>...</td>\n",
       "      <td>...</td>\n",
       "      <td>...</td>\n",
       "    </tr>\n",
       "    <tr>\n",
       "      <th>130818</th>\n",
       "      <td>还不错 值得去一趟</td>\n",
       "      <td>0.968345</td>\n",
       "      <td>1</td>\n",
       "      <td>5.0</td>\n",
       "      <td>青岛海昌极地海洋公园</td>\n",
       "      <td>pretty good</td>\n",
       "    </tr>\n",
       "    <tr>\n",
       "      <th>130819</th>\n",
       "      <td>速度太慢服务太差</td>\n",
       "      <td>0.044576</td>\n",
       "      <td>0</td>\n",
       "      <td>1.0</td>\n",
       "      <td>青岛海昌极地海洋公园</td>\n",
       "      <td>pretty bad</td>\n",
       "    </tr>\n",
       "    <tr>\n",
       "      <th>130820</th>\n",
       "      <td>感覺一般</td>\n",
       "      <td>0.291799</td>\n",
       "      <td>1</td>\n",
       "      <td>3.0</td>\n",
       "      <td>青岛海昌极地海洋公园</td>\n",
       "      <td>pretty bad</td>\n",
       "    </tr>\n",
       "    <tr>\n",
       "      <th>130821</th>\n",
       "      <td>人太多了啊</td>\n",
       "      <td>0.385037</td>\n",
       "      <td>1</td>\n",
       "      <td>4.0</td>\n",
       "      <td>青岛海昌极地海洋公园</td>\n",
       "      <td>just so so</td>\n",
       "    </tr>\n",
       "    <tr>\n",
       "      <th>130822</th>\n",
       "      <td>带着孩子一起来的本来感觉没有大的希望了，结果进到冰雪乐园孩子玩疯了，叫了好几遍都不出来，小朋...</td>\n",
       "      <td>0.985224</td>\n",
       "      <td>1</td>\n",
       "      <td>5.0</td>\n",
       "      <td>青岛海昌极地海洋公园</td>\n",
       "      <td>pretty good</td>\n",
       "    </tr>\n",
       "  </tbody>\n",
       "</table>\n",
       "<p>130823 rows × 6 columns</p>\n",
       "</div>"
      ],
      "text/plain": [
       "                                                 comments  sentiments  grade  \\\n",
       "0                                                    非常满意    0.705347      1   \n",
       "1                                                很不错，挺好的。    0.980408      1   \n",
       "2                                                       好    0.655863      1   \n",
       "3                                                     挺好的    0.828425      1   \n",
       "4                                                    非常好，    0.655863      1   \n",
       "...                                                   ...         ...    ...   \n",
       "130818                                          还不错 值得去一趟    0.968345      1   \n",
       "130819                                           速度太慢服务太差    0.044576      0   \n",
       "130820                                               感覺一般    0.291799      1   \n",
       "130821                                              人太多了啊    0.385037      1   \n",
       "130822  带着孩子一起来的本来感觉没有大的希望了，结果进到冰雪乐园孩子玩疯了，叫了好几遍都不出来，小朋...    0.985224      1   \n",
       "\n",
       "        score  ScenicSpot       labels  \n",
       "0         5.0       青岛水族馆  pretty good  \n",
       "1         4.0       青岛水族馆  pretty good  \n",
       "2         5.0       青岛水族馆   just so so  \n",
       "3         5.0       青岛水族馆  pretty good  \n",
       "4         5.0       青岛水族馆   just so so  \n",
       "...       ...         ...          ...  \n",
       "130818    5.0  青岛海昌极地海洋公园  pretty good  \n",
       "130819    1.0  青岛海昌极地海洋公园   pretty bad  \n",
       "130820    3.0  青岛海昌极地海洋公园   pretty bad  \n",
       "130821    4.0  青岛海昌极地海洋公园   just so so  \n",
       "130822    5.0  青岛海昌极地海洋公园  pretty good  \n",
       "\n",
       "[130823 rows x 6 columns]"
      ]
     },
     "execution_count": 116,
     "metadata": {},
     "output_type": "execute_result"
    }
   ],
   "source": [
    "df['labels'] = df['sentiments'].apply(convert_grades)\n",
    "df"
   ]
  },
  {
   "cell_type": "code",
   "execution_count": 117,
   "metadata": {
    "ExecuteTime": {
     "end_time": "2021-08-31T07:29:27.888506Z",
     "start_time": "2021-08-31T07:29:27.884157Z"
    },
    "hidden": true
   },
   "outputs": [],
   "source": [
    "def add_data(place_list,df):\n",
    "    data_tmp=df.loc[:,['comments','score','labels','ScenicSpot']]\n",
    "    data_tmp=data_tmp.reindex(columns=['comments','score','labels','ScenicSpot']+place_list, fill_value=0)\n",
    "    for i in range(data_tmp.shape[0]):\n",
    "        for fea_ind in range(len(place_list)):\n",
    "            data_tmp[place_list[fea_ind]][i]+=name_fea[data_tmp['ScenicSpot'][i]][fea_ind]\n",
    "    return data_tmp[['labels']+place_list+['score']]"
   ]
  },
  {
   "cell_type": "code",
   "execution_count": 118,
   "metadata": {
    "ExecuteTime": {
     "end_time": "2021-08-31T07:36:55.590794Z",
     "start_time": "2021-08-31T07:30:20.707216Z"
    },
    "hidden": true
   },
   "outputs": [
    {
     "data": {
      "text/html": [
       "<div>\n",
       "<style scoped>\n",
       "    .dataframe tbody tr th:only-of-type {\n",
       "        vertical-align: middle;\n",
       "    }\n",
       "\n",
       "    .dataframe tbody tr th {\n",
       "        vertical-align: top;\n",
       "    }\n",
       "\n",
       "    .dataframe thead th {\n",
       "        text-align: right;\n",
       "    }\n",
       "</style>\n",
       "<table border=\"1\" class=\"dataframe\">\n",
       "  <thead>\n",
       "    <tr style=\"text-align: right;\">\n",
       "      <th></th>\n",
       "      <th>labels</th>\n",
       "      <th>环境</th>\n",
       "      <th>交通</th>\n",
       "      <th>价格</th>\n",
       "      <th>设施</th>\n",
       "      <th>表演</th>\n",
       "      <th>服务态度</th>\n",
       "      <th>时间</th>\n",
       "      <th>score</th>\n",
       "    </tr>\n",
       "  </thead>\n",
       "  <tbody>\n",
       "    <tr>\n",
       "      <th>0</th>\n",
       "      <td>pretty good</td>\n",
       "      <td>1</td>\n",
       "      <td>1</td>\n",
       "      <td>1</td>\n",
       "      <td>1</td>\n",
       "      <td>1</td>\n",
       "      <td>0</td>\n",
       "      <td>1</td>\n",
       "      <td>5.0</td>\n",
       "    </tr>\n",
       "    <tr>\n",
       "      <th>1</th>\n",
       "      <td>pretty good</td>\n",
       "      <td>1</td>\n",
       "      <td>1</td>\n",
       "      <td>1</td>\n",
       "      <td>1</td>\n",
       "      <td>1</td>\n",
       "      <td>0</td>\n",
       "      <td>1</td>\n",
       "      <td>4.0</td>\n",
       "    </tr>\n",
       "    <tr>\n",
       "      <th>2</th>\n",
       "      <td>just so so</td>\n",
       "      <td>1</td>\n",
       "      <td>1</td>\n",
       "      <td>1</td>\n",
       "      <td>1</td>\n",
       "      <td>1</td>\n",
       "      <td>0</td>\n",
       "      <td>1</td>\n",
       "      <td>5.0</td>\n",
       "    </tr>\n",
       "    <tr>\n",
       "      <th>3</th>\n",
       "      <td>pretty good</td>\n",
       "      <td>1</td>\n",
       "      <td>1</td>\n",
       "      <td>1</td>\n",
       "      <td>1</td>\n",
       "      <td>1</td>\n",
       "      <td>0</td>\n",
       "      <td>1</td>\n",
       "      <td>5.0</td>\n",
       "    </tr>\n",
       "    <tr>\n",
       "      <th>4</th>\n",
       "      <td>just so so</td>\n",
       "      <td>1</td>\n",
       "      <td>1</td>\n",
       "      <td>1</td>\n",
       "      <td>1</td>\n",
       "      <td>1</td>\n",
       "      <td>0</td>\n",
       "      <td>1</td>\n",
       "      <td>5.0</td>\n",
       "    </tr>\n",
       "    <tr>\n",
       "      <th>...</th>\n",
       "      <td>...</td>\n",
       "      <td>...</td>\n",
       "      <td>...</td>\n",
       "      <td>...</td>\n",
       "      <td>...</td>\n",
       "      <td>...</td>\n",
       "      <td>...</td>\n",
       "      <td>...</td>\n",
       "      <td>...</td>\n",
       "    </tr>\n",
       "    <tr>\n",
       "      <th>130818</th>\n",
       "      <td>pretty good</td>\n",
       "      <td>0</td>\n",
       "      <td>1</td>\n",
       "      <td>0</td>\n",
       "      <td>0</td>\n",
       "      <td>0</td>\n",
       "      <td>0</td>\n",
       "      <td>0</td>\n",
       "      <td>5.0</td>\n",
       "    </tr>\n",
       "    <tr>\n",
       "      <th>130819</th>\n",
       "      <td>pretty bad</td>\n",
       "      <td>0</td>\n",
       "      <td>1</td>\n",
       "      <td>0</td>\n",
       "      <td>0</td>\n",
       "      <td>0</td>\n",
       "      <td>0</td>\n",
       "      <td>0</td>\n",
       "      <td>1.0</td>\n",
       "    </tr>\n",
       "    <tr>\n",
       "      <th>130820</th>\n",
       "      <td>pretty bad</td>\n",
       "      <td>0</td>\n",
       "      <td>1</td>\n",
       "      <td>0</td>\n",
       "      <td>0</td>\n",
       "      <td>0</td>\n",
       "      <td>0</td>\n",
       "      <td>0</td>\n",
       "      <td>3.0</td>\n",
       "    </tr>\n",
       "    <tr>\n",
       "      <th>130821</th>\n",
       "      <td>just so so</td>\n",
       "      <td>0</td>\n",
       "      <td>1</td>\n",
       "      <td>0</td>\n",
       "      <td>0</td>\n",
       "      <td>0</td>\n",
       "      <td>0</td>\n",
       "      <td>0</td>\n",
       "      <td>4.0</td>\n",
       "    </tr>\n",
       "    <tr>\n",
       "      <th>130822</th>\n",
       "      <td>pretty good</td>\n",
       "      <td>0</td>\n",
       "      <td>1</td>\n",
       "      <td>0</td>\n",
       "      <td>0</td>\n",
       "      <td>0</td>\n",
       "      <td>0</td>\n",
       "      <td>0</td>\n",
       "      <td>5.0</td>\n",
       "    </tr>\n",
       "  </tbody>\n",
       "</table>\n",
       "<p>130823 rows × 9 columns</p>\n",
       "</div>"
      ],
      "text/plain": [
       "             labels  环境  交通  价格  设施  表演  服务态度  时间  score\n",
       "0       pretty good   1   1   1   1   1     0   1    5.0\n",
       "1       pretty good   1   1   1   1   1     0   1    4.0\n",
       "2        just so so   1   1   1   1   1     0   1    5.0\n",
       "3       pretty good   1   1   1   1   1     0   1    5.0\n",
       "4        just so so   1   1   1   1   1     0   1    5.0\n",
       "...             ...  ..  ..  ..  ..  ..   ...  ..    ...\n",
       "130818  pretty good   0   1   0   0   0     0   0    5.0\n",
       "130819   pretty bad   0   1   0   0   0     0   0    1.0\n",
       "130820   pretty bad   0   1   0   0   0     0   0    3.0\n",
       "130821   just so so   0   1   0   0   0     0   0    4.0\n",
       "130822  pretty good   0   1   0   0   0     0   0    5.0\n",
       "\n",
       "[130823 rows x 9 columns]"
      ]
     },
     "execution_count": 118,
     "metadata": {},
     "output_type": "execute_result"
    }
   ],
   "source": [
    "final_data=add_data(aquariumlist,df)\n",
    "final_data.to_csv(\"C:/Users/86178/Desktop/青岛统计建模/回归分析数据/AquariumData.csv\",encoding='utf-8-sig',index=False)\n",
    "final_data.to_csv('AquariumData.csv',encoding='utf-8-sig',index=False)\n",
    "final_data"
   ]
  },
  {
   "cell_type": "markdown",
   "metadata": {
    "heading_collapsed": true
   },
   "source": [
    "# 评论分类"
   ]
  },
  {
   "cell_type": "code",
   "execution_count": 12,
   "metadata": {
    "ExecuteTime": {
     "end_time": "2021-08-21T09:01:07.701977Z",
     "start_time": "2021-08-21T09:01:07.671397Z"
    },
    "hidden": true
   },
   "outputs": [],
   "source": [
    "df_postive = copy.deepcopy(df[df['labels'] == 1])\n",
    "df_negative = copy.deepcopy(df[df['labels'] == 0])"
   ]
  },
  {
   "cell_type": "code",
   "execution_count": 13,
   "metadata": {
    "ExecuteTime": {
     "end_time": "2021-08-21T09:01:07.717273Z",
     "start_time": "2021-08-21T09:01:07.702813Z"
    },
    "hidden": true
   },
   "outputs": [],
   "source": [
    "df_postive = copy.deepcopy(df[df['grade'] == 1])\n",
    "df_negative = copy.deepcopy(df[df['grade'] == 0])"
   ]
  },
  {
   "cell_type": "code",
   "execution_count": 14,
   "metadata": {
    "ExecuteTime": {
     "end_time": "2021-08-21T09:01:07.732240Z",
     "start_time": "2021-08-21T09:01:07.718127Z"
    },
    "hidden": true
   },
   "outputs": [
    {
     "data": {
      "text/html": [
       "<div>\n",
       "<style scoped>\n",
       "    .dataframe tbody tr th:only-of-type {\n",
       "        vertical-align: middle;\n",
       "    }\n",
       "\n",
       "    .dataframe tbody tr th {\n",
       "        vertical-align: top;\n",
       "    }\n",
       "\n",
       "    .dataframe thead th {\n",
       "        text-align: right;\n",
       "    }\n",
       "</style>\n",
       "<table border=\"1\" class=\"dataframe\">\n",
       "  <thead>\n",
       "    <tr style=\"text-align: right;\">\n",
       "      <th></th>\n",
       "      <th>comments</th>\n",
       "      <th>sentiments</th>\n",
       "      <th>grade</th>\n",
       "      <th>labels</th>\n",
       "    </tr>\n",
       "  </thead>\n",
       "  <tbody>\n",
       "    <tr>\n",
       "      <th>0</th>\n",
       "      <td>不错接着期待还带孩子来</td>\n",
       "      <td>0.982890</td>\n",
       "      <td>1</td>\n",
       "      <td>1</td>\n",
       "    </tr>\n",
       "    <tr>\n",
       "      <th>1</th>\n",
       "      <td>好</td>\n",
       "      <td>0.655863</td>\n",
       "      <td>1</td>\n",
       "      <td>1</td>\n",
       "    </tr>\n",
       "    <tr>\n",
       "      <th>5</th>\n",
       "      <td>99号小伙子，手法很好，超酸爽。过瘾，支持！</td>\n",
       "      <td>0.997289</td>\n",
       "      <td>1</td>\n",
       "      <td>1</td>\n",
       "    </tr>\n",
       "    <tr>\n",
       "      <th>6</th>\n",
       "      <td>强烈推荐。多运动 多睡觉 少吃零食 后脑勺不要冒泡 [笑哈哈]嗯😊我最喜欢三月的风，四月的雨...</td>\n",
       "      <td>0.996967</td>\n",
       "      <td>1</td>\n",
       "      <td>1</td>\n",
       "    </tr>\n",
       "    <tr>\n",
       "      <th>7</th>\n",
       "      <td>其实已经过了很久了美团还是让评价，很不错哟，跟闺蜜玩得很开心，是个好地方，就是要做好防晒哟，推荐～</td>\n",
       "      <td>0.999643</td>\n",
       "      <td>1</td>\n",
       "      <td>1</td>\n",
       "    </tr>\n",
       "  </tbody>\n",
       "</table>\n",
       "</div>"
      ],
      "text/plain": [
       "                                            comments  sentiments  grade  \\\n",
       "0                                        不错接着期待还带孩子来    0.982890      1   \n",
       "1                                                  好    0.655863      1   \n",
       "5                             99号小伙子，手法很好，超酸爽。过瘾，支持！    0.997289      1   \n",
       "6  强烈推荐。多运动 多睡觉 少吃零食 后脑勺不要冒泡 [笑哈哈]嗯😊我最喜欢三月的风，四月的雨...    0.996967      1   \n",
       "7  其实已经过了很久了美团还是让评价，很不错哟，跟闺蜜玩得很开心，是个好地方，就是要做好防晒哟，推荐～    0.999643      1   \n",
       "\n",
       "   labels  \n",
       "0       1  \n",
       "1       1  \n",
       "5       1  \n",
       "6       1  \n",
       "7       1  "
      ]
     },
     "execution_count": 14,
     "metadata": {},
     "output_type": "execute_result"
    }
   ],
   "source": [
    "df_postive.head()"
   ]
  },
  {
   "cell_type": "code",
   "execution_count": 15,
   "metadata": {
    "ExecuteTime": {
     "end_time": "2021-08-21T09:01:07.748110Z",
     "start_time": "2021-08-21T09:01:07.733086Z"
    },
    "hidden": true
   },
   "outputs": [],
   "source": [
    "comments_postive = df_postive['comments'].tolist()\n",
    "comments_negative = df_negative['comments'].tolist()"
   ]
  },
  {
   "cell_type": "code",
   "execution_count": 16,
   "metadata": {
    "ExecuteTime": {
     "end_time": "2021-08-21T09:01:07.763358Z",
     "start_time": "2021-08-21T09:01:07.749066Z"
    },
    "hidden": true
   },
   "outputs": [],
   "source": [
    "# 输入 comments：['xcbak','hxail sfv ssf','xanil dqa']\n",
    "def commens_processing(comments):\n",
    "    pattern = re.compile(u'\\t|\\n|\\.|-|:|;|\\)|\\(|\\?|\"')  # 定义正则表达式匹配模式\n",
    "    punctuation_list = punctuation+string.punctuation+\" \"\n",
    "    com = []\n",
    "    for index, value in enumerate(comments):\n",
    "        for pun in punctuation_list:  # 去掉标点\n",
    "            value = value.replace(pun, '')\n",
    "        value = re.sub(pattern, '', value)  # 将符合模式的字符去除\n",
    "        seg_list_exact = jieba.lcut(value, cut_all=False)  # 精确模式分词\n",
    "        comments_seg = []\n",
    "        for word in seg_list_exact:\n",
    "            if word not in stopwords:\n",
    "                comments_seg.append(word)\n",
    "        if comments_seg:\n",
    "            com.append(comments_seg)\n",
    "    return com"
   ]
  },
  {
   "cell_type": "markdown",
   "metadata": {
    "heading_collapsed": true
   },
   "source": [
    "# LDA主题模型"
   ]
  },
  {
   "cell_type": "code",
   "execution_count": 17,
   "metadata": {
    "ExecuteTime": {
     "end_time": "2021-08-21T09:01:07.778190Z",
     "start_time": "2021-08-21T09:01:07.764206Z"
    },
    "hidden": true
   },
   "outputs": [],
   "source": [
    "def lda(text, topic=10):\n",
    "    dictionary = Dictionary(text)\n",
    "    doc_term_matrix = [dictionary.doc2bow(doc) for doc in text]\n",
    "    ldamodel = LdaModel(doc_term_matrix, num_topics=5,\n",
    "                        id2word=dictionary, passes=10)\n",
    "    pprint(ldamodel.print_topics(num_topics=5, num_words=10))"
   ]
  },
  {
   "cell_type": "code",
   "execution_count": 18,
   "metadata": {
    "ExecuteTime": {
     "end_time": "2021-08-21T09:01:19.786065Z",
     "start_time": "2021-08-21T09:01:07.779200Z"
    },
    "hidden": true
   },
   "outputs": [
    {
     "name": "stdout",
     "output_type": "stream",
     "text": [
      "[(0,\n",
      "  '0.015*\"石老人\" + 0.008*\"海水浴场\" + 0.008*\"大海\" + 0.008*\"海边\" + 0.008*\"海水\" + '\n",
      "  '0.007*\"夏天\" + 0.007*\"时间\" + 0.006*\"沙滩\" + 0.006*\"不错\" + 0.006*\"免费\"'),\n",
      " (1,\n",
      "  '0.014*\"沙子\" + 0.010*\"沙滩\" + 0.010*\"孩子\" + 0.008*\"开心\" + 0.007*\"螃蟹\" + 0.007*\"不错\" '\n",
      "  '+ 0.006*\"海边\" + 0.006*\"抓\" + 0.005*\"二浴\" + 0.004*\"海滩\"'),\n",
      " (2,\n",
      "  '0.015*\"海水浴场\" + 0.014*\"八大关\" + 0.011*\"拍照\" + 0.008*\"路\" + 0.008*\"地方\" + '\n",
      "  '0.007*\"海边\" + 0.006*\"石楼\" + 0.006*\"浴场\" + 0.006*\"推荐\" + 0.005*\"时间\"'),\n",
      " (3,\n",
      "  '0.032*\"金沙滩\" + 0.021*\"沙滩\" + 0.013*\"沙子\" + 0.010*\"舒服\" + 0.009*\"黄岛\" + 0.008*\"吹\" '\n",
      "  '+ 0.008*\"海风\" + 0.008*\"海边\" + 0.008*\"特别\" + 0.006*\"细腻\"'),\n",
      " (4,\n",
      "  '0.043*\"海水浴场\" + 0.031*\"沙滩\" + 0.022*\"浴场\" + 0.022*\"海水\" + 0.020*\"不错\" + '\n",
      "  '0.019*\"干净\" + 0.018*\"八大关\" + 0.015*\"沙子\" + 0.012*\"第一\" + 0.010*\"海边\"')]\n"
     ]
    }
   ],
   "source": [
    "text = commens_processing(comments_postive)\n",
    "lda(text)"
   ]
  },
  {
   "cell_type": "code",
   "execution_count": 19,
   "metadata": {
    "ExecuteTime": {
     "end_time": "2021-08-21T09:01:22.426003Z",
     "start_time": "2021-08-21T09:01:19.787048Z"
    },
    "hidden": true
   },
   "outputs": [
    {
     "name": "stdout",
     "output_type": "stream",
     "text": [
      "[(0,\n",
      "  '0.013*\"金沙滩\" + 0.012*\"浴场\" + 0.008*\"游泳\" + 0.008*\"说\" + 0.007*\"孩子\" + 0.006*\"管理\" '\n",
      "  '+ 0.006*\"地方\" + 0.006*\"沙滩\" + 0.005*\"垃圾\" + 0.004*\"租\"'),\n",
      " (1,\n",
      "  '0.010*\"海水浴场\" + 0.009*\"不错\" + 0.008*\"不好\" + 0.008*\"地方\" + 0.008*\"海水\" + '\n",
      "  '0.007*\"石老人\" + 0.007*\"元\" + 0.006*\"一点\" + 0.006*\"态度\" + 0.006*\"孩子\"'),\n",
      " (2,\n",
      "  '0.008*\"沙滩\" + 0.007*\"海水\" + 0.007*\"孩子\" + 0.007*\"地方\" + 0.007*\"说\" + 0.007*\"元\" + '\n",
      "  '0.007*\"坐\" + 0.007*\"游泳\" + 0.006*\"钱\" + 0.006*\"金沙滩\"'),\n",
      " (3,\n",
      "  '0.009*\"说\" + 0.007*\"点\" + 0.006*\"特别\" + 0.006*\"沙滩\" + 0.005*\"收费\" + 0.005*\"沙子\" + '\n",
      "  '0.005*\"孩子\" + 0.004*\"元\" + 0.004*\"厕所\" + 0.004*\"海藻\"'),\n",
      " (4,\n",
      "  '0.014*\"浴场\" + 0.010*\"沙滩\" + 0.009*\"感觉\" + 0.009*\"说\" + 0.009*\"收费\" + '\n",
      "  '0.008*\"海水浴场\" + 0.007*\"地方\" + 0.006*\"贵\" + 0.006*\"海边\" + 0.005*\"金沙滩\"')]\n"
     ]
    }
   ],
   "source": [
    "text = commens_processing(comments_negative)\n",
    "lda(text)"
   ]
  },
  {
   "cell_type": "code",
   "execution_count": null,
   "metadata": {
    "hidden": true
   },
   "outputs": [],
   "source": []
  }
 ],
 "metadata": {
  "kernelspec": {
   "display_name": "Python 3",
   "language": "python",
   "name": "python3"
  },
  "language_info": {
   "codemirror_mode": {
    "name": "ipython",
    "version": 3
   },
   "file_extension": ".py",
   "mimetype": "text/x-python",
   "name": "python",
   "nbconvert_exporter": "python",
   "pygments_lexer": "ipython3",
   "version": "3.8.8"
  },
  "toc": {
   "base_numbering": 1,
   "nav_menu": {},
   "number_sections": true,
   "sideBar": true,
   "skip_h1_title": false,
   "title_cell": "Table of Contents",
   "title_sidebar": "Contents",
   "toc_cell": false,
   "toc_position": {},
   "toc_section_display": true,
   "toc_window_display": false
  },
  "varInspector": {
   "cols": {
    "lenName": 16,
    "lenType": 16,
    "lenVar": 40
   },
   "kernels_config": {
    "python": {
     "delete_cmd_postfix": "",
     "delete_cmd_prefix": "del ",
     "library": "var_list.py",
     "varRefreshCmd": "print(var_dic_list())"
    },
    "r": {
     "delete_cmd_postfix": ") ",
     "delete_cmd_prefix": "rm(",
     "library": "var_list.r",
     "varRefreshCmd": "cat(var_dic_list()) "
    }
   },
   "types_to_exclude": [
    "module",
    "function",
    "builtin_function_or_method",
    "instance",
    "_Feature"
   ],
   "window_display": false
  }
 },
 "nbformat": 4,
 "nbformat_minor": 4
}
