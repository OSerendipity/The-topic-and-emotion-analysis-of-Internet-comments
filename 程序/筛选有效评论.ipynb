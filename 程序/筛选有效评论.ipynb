{
 "cells": [
  {
   "cell_type": "markdown",
   "metadata": {},
   "source": [
    "# 导入相关库"
   ]
  },
  {
   "cell_type": "code",
   "execution_count": 1,
   "metadata": {
    "ExecuteTime": {
     "end_time": "2021-08-24T06:23:16.865913Z",
     "start_time": "2021-08-24T06:23:12.944908Z"
    }
   },
   "outputs": [],
   "source": [
    "import jieba\n",
    "import pandas as pd\n",
    "import numpy as np\n",
    "import re\n",
    "from gensim import corpora\n",
    "from sklearn.cluster import DBSCAN\n",
    "from gensim.corpora import Dictionary\n",
    "from sklearn.feature_extraction import DictVectorizer\n",
    "import matplotlib.pyplot as plt\n",
    "plt.rcParams['font.sans-serif']=['SimHei']\n",
    "plt.rcParams['axes.unicode_minus'] = False\n",
    "from gensim.models import TfidfModel\n",
    "import warnings\n",
    "warnings.filterwarnings(\"ignore\")"
   ]
  },
  {
   "cell_type": "markdown",
   "metadata": {},
   "source": [
    "# 数据读取"
   ]
  },
  {
   "cell_type": "code",
   "execution_count": 2,
   "metadata": {
    "ExecuteTime": {
     "end_time": "2021-08-24T06:23:16.959703Z",
     "start_time": "2021-08-24T06:23:16.899101Z"
    }
   },
   "outputs": [],
   "source": [
    "comment_file_path = '评论数据/青岛水族馆.csv'\n",
    "data_raw = pd.read_csv(comment_file_path).dropna(axis=0,how='any')\n",
    "data_comment = list(data_raw['评论'])"
   ]
  },
  {
   "cell_type": "markdown",
   "metadata": {},
   "source": [
    "# 数据预处理"
   ]
  },
  {
   "cell_type": "markdown",
   "metadata": {},
   "source": [
    "## 分词"
   ]
  },
  {
   "cell_type": "code",
   "execution_count": 3,
   "metadata": {
    "ExecuteTime": {
     "end_time": "2021-08-24T06:23:17.005232Z",
     "start_time": "2021-08-24T06:23:16.990833Z"
    }
   },
   "outputs": [],
   "source": [
    "def string_seg(X):\n",
    "    comments=[]\n",
    "    for comment in X:\n",
    "        r = '[’!\"#$%&\\'()*+,-./:;<=>?@[\\\\]^_`{|}~\\n。！，]+'\n",
    "        comment = re.sub(r, '', str(comment))\n",
    "        comment = jieba.cut(comment)\n",
    "        comments.append(list(comment))\n",
    "    return comments"
   ]
  },
  {
   "cell_type": "code",
   "execution_count": 4,
   "metadata": {
    "ExecuteTime": {
     "end_time": "2021-08-24T06:23:17.891241Z",
     "start_time": "2021-08-24T06:23:17.037104Z"
    }
   },
   "outputs": [
    {
     "name": "stderr",
     "output_type": "stream",
     "text": [
      "Building prefix dict from the default dictionary ...\n",
      "Loading model from cache C:\\Users\\ASUS\\AppData\\Local\\Temp\\jieba.cache\n",
      "Loading model cost 0.636 seconds.\n",
      "Prefix dict has been built successfully.\n"
     ]
    }
   ],
   "source": [
    "X_seg = string_seg(data_comment)"
   ]
  },
  {
   "cell_type": "markdown",
   "metadata": {},
   "source": [
    "## 转化为矩阵"
   ]
  },
  {
   "cell_type": "code",
   "execution_count": 5,
   "metadata": {
    "ExecuteTime": {
     "end_time": "2021-08-24T06:23:17.954100Z",
     "start_time": "2021-08-24T06:23:17.939430Z"
    }
   },
   "outputs": [],
   "source": [
    "#利用词频词袋模型，将文字转化为矩阵\n",
    "def feature_extract(X):\n",
    "    dictionary = corpora.Dictionary(X)    \n",
    "    # 将数据转换为稀疏矩阵\n",
    "    corpus = [dictionary.doc2bow(text) for text in X]    \n",
    "    data = []\n",
    "    for i in corpus:\n",
    "        data.append(dict(i))\n",
    "    vec = DictVectorizer(sparse=True, dtype=np.uint8)\n",
    "    data_new = vec.fit_transform(data)\n",
    "    return data_new"
   ]
  },
  {
   "cell_type": "code",
   "execution_count": 6,
   "metadata": {
    "ExecuteTime": {
     "end_time": "2021-08-24T06:23:18.079490Z",
     "start_time": "2021-08-24T06:23:17.987014Z"
    }
   },
   "outputs": [],
   "source": [
    "X_new = feature_extract(X_seg)"
   ]
  },
  {
   "cell_type": "code",
   "execution_count": 7,
   "metadata": {
    "ExecuteTime": {
     "end_time": "2021-08-24T06:23:18.157644Z",
     "start_time": "2021-08-24T06:23:18.112421Z"
    }
   },
   "outputs": [
    {
     "data": {
      "text/html": [
       "<div>\n",
       "<style scoped>\n",
       "    .dataframe tbody tr th:only-of-type {\n",
       "        vertical-align: middle;\n",
       "    }\n",
       "\n",
       "    .dataframe tbody tr th {\n",
       "        vertical-align: top;\n",
       "    }\n",
       "\n",
       "    .dataframe thead th {\n",
       "        text-align: right;\n",
       "    }\n",
       "</style>\n",
       "<table border=\"1\" class=\"dataframe\">\n",
       "  <thead>\n",
       "    <tr style=\"text-align: right;\">\n",
       "      <th></th>\n",
       "      <th>0</th>\n",
       "      <th>1</th>\n",
       "      <th>2</th>\n",
       "      <th>3</th>\n",
       "      <th>4</th>\n",
       "      <th>5</th>\n",
       "      <th>6</th>\n",
       "      <th>7</th>\n",
       "      <th>8</th>\n",
       "      <th>9</th>\n",
       "      <th>...</th>\n",
       "      <th>3703</th>\n",
       "      <th>3704</th>\n",
       "      <th>3705</th>\n",
       "      <th>3706</th>\n",
       "      <th>3707</th>\n",
       "      <th>3708</th>\n",
       "      <th>3709</th>\n",
       "      <th>3710</th>\n",
       "      <th>3711</th>\n",
       "      <th>3712</th>\n",
       "    </tr>\n",
       "  </thead>\n",
       "  <tbody>\n",
       "    <tr>\n",
       "      <th>0</th>\n",
       "      <td>1</td>\n",
       "      <td>1</td>\n",
       "      <td>1</td>\n",
       "      <td>1</td>\n",
       "      <td>1</td>\n",
       "      <td>1</td>\n",
       "      <td>1</td>\n",
       "      <td>1</td>\n",
       "      <td>1</td>\n",
       "      <td>1</td>\n",
       "      <td>...</td>\n",
       "      <td>0</td>\n",
       "      <td>0</td>\n",
       "      <td>0</td>\n",
       "      <td>0</td>\n",
       "      <td>0</td>\n",
       "      <td>0</td>\n",
       "      <td>0</td>\n",
       "      <td>0</td>\n",
       "      <td>0</td>\n",
       "      <td>0</td>\n",
       "    </tr>\n",
       "    <tr>\n",
       "      <th>1</th>\n",
       "      <td>1</td>\n",
       "      <td>0</td>\n",
       "      <td>0</td>\n",
       "      <td>0</td>\n",
       "      <td>0</td>\n",
       "      <td>0</td>\n",
       "      <td>0</td>\n",
       "      <td>0</td>\n",
       "      <td>0</td>\n",
       "      <td>0</td>\n",
       "      <td>...</td>\n",
       "      <td>0</td>\n",
       "      <td>0</td>\n",
       "      <td>0</td>\n",
       "      <td>0</td>\n",
       "      <td>0</td>\n",
       "      <td>0</td>\n",
       "      <td>0</td>\n",
       "      <td>0</td>\n",
       "      <td>0</td>\n",
       "      <td>0</td>\n",
       "    </tr>\n",
       "    <tr>\n",
       "      <th>2</th>\n",
       "      <td>0</td>\n",
       "      <td>0</td>\n",
       "      <td>0</td>\n",
       "      <td>0</td>\n",
       "      <td>0</td>\n",
       "      <td>1</td>\n",
       "      <td>0</td>\n",
       "      <td>0</td>\n",
       "      <td>0</td>\n",
       "      <td>0</td>\n",
       "      <td>...</td>\n",
       "      <td>0</td>\n",
       "      <td>0</td>\n",
       "      <td>0</td>\n",
       "      <td>0</td>\n",
       "      <td>0</td>\n",
       "      <td>0</td>\n",
       "      <td>0</td>\n",
       "      <td>0</td>\n",
       "      <td>0</td>\n",
       "      <td>0</td>\n",
       "    </tr>\n",
       "    <tr>\n",
       "      <th>3</th>\n",
       "      <td>0</td>\n",
       "      <td>0</td>\n",
       "      <td>0</td>\n",
       "      <td>0</td>\n",
       "      <td>0</td>\n",
       "      <td>1</td>\n",
       "      <td>0</td>\n",
       "      <td>0</td>\n",
       "      <td>0</td>\n",
       "      <td>0</td>\n",
       "      <td>...</td>\n",
       "      <td>0</td>\n",
       "      <td>0</td>\n",
       "      <td>0</td>\n",
       "      <td>0</td>\n",
       "      <td>0</td>\n",
       "      <td>0</td>\n",
       "      <td>0</td>\n",
       "      <td>0</td>\n",
       "      <td>0</td>\n",
       "      <td>0</td>\n",
       "    </tr>\n",
       "    <tr>\n",
       "      <th>4</th>\n",
       "      <td>0</td>\n",
       "      <td>0</td>\n",
       "      <td>0</td>\n",
       "      <td>0</td>\n",
       "      <td>0</td>\n",
       "      <td>0</td>\n",
       "      <td>0</td>\n",
       "      <td>0</td>\n",
       "      <td>0</td>\n",
       "      <td>0</td>\n",
       "      <td>...</td>\n",
       "      <td>0</td>\n",
       "      <td>0</td>\n",
       "      <td>0</td>\n",
       "      <td>0</td>\n",
       "      <td>0</td>\n",
       "      <td>0</td>\n",
       "      <td>0</td>\n",
       "      <td>0</td>\n",
       "      <td>0</td>\n",
       "      <td>0</td>\n",
       "    </tr>\n",
       "    <tr>\n",
       "      <th>...</th>\n",
       "      <td>...</td>\n",
       "      <td>...</td>\n",
       "      <td>...</td>\n",
       "      <td>...</td>\n",
       "      <td>...</td>\n",
       "      <td>...</td>\n",
       "      <td>...</td>\n",
       "      <td>...</td>\n",
       "      <td>...</td>\n",
       "      <td>...</td>\n",
       "      <td>...</td>\n",
       "      <td>...</td>\n",
       "      <td>...</td>\n",
       "      <td>...</td>\n",
       "      <td>...</td>\n",
       "      <td>...</td>\n",
       "      <td>...</td>\n",
       "      <td>...</td>\n",
       "      <td>...</td>\n",
       "      <td>...</td>\n",
       "      <td>...</td>\n",
       "    </tr>\n",
       "    <tr>\n",
       "      <th>1718</th>\n",
       "      <td>0</td>\n",
       "      <td>0</td>\n",
       "      <td>0</td>\n",
       "      <td>0</td>\n",
       "      <td>0</td>\n",
       "      <td>1</td>\n",
       "      <td>0</td>\n",
       "      <td>0</td>\n",
       "      <td>0</td>\n",
       "      <td>0</td>\n",
       "      <td>...</td>\n",
       "      <td>0</td>\n",
       "      <td>0</td>\n",
       "      <td>0</td>\n",
       "      <td>0</td>\n",
       "      <td>0</td>\n",
       "      <td>0</td>\n",
       "      <td>1</td>\n",
       "      <td>0</td>\n",
       "      <td>0</td>\n",
       "      <td>0</td>\n",
       "    </tr>\n",
       "    <tr>\n",
       "      <th>1719</th>\n",
       "      <td>0</td>\n",
       "      <td>0</td>\n",
       "      <td>0</td>\n",
       "      <td>0</td>\n",
       "      <td>0</td>\n",
       "      <td>0</td>\n",
       "      <td>0</td>\n",
       "      <td>0</td>\n",
       "      <td>0</td>\n",
       "      <td>0</td>\n",
       "      <td>...</td>\n",
       "      <td>0</td>\n",
       "      <td>0</td>\n",
       "      <td>0</td>\n",
       "      <td>0</td>\n",
       "      <td>0</td>\n",
       "      <td>0</td>\n",
       "      <td>0</td>\n",
       "      <td>1</td>\n",
       "      <td>0</td>\n",
       "      <td>0</td>\n",
       "    </tr>\n",
       "    <tr>\n",
       "      <th>1720</th>\n",
       "      <td>0</td>\n",
       "      <td>0</td>\n",
       "      <td>0</td>\n",
       "      <td>0</td>\n",
       "      <td>0</td>\n",
       "      <td>0</td>\n",
       "      <td>0</td>\n",
       "      <td>0</td>\n",
       "      <td>0</td>\n",
       "      <td>0</td>\n",
       "      <td>...</td>\n",
       "      <td>0</td>\n",
       "      <td>0</td>\n",
       "      <td>0</td>\n",
       "      <td>0</td>\n",
       "      <td>0</td>\n",
       "      <td>0</td>\n",
       "      <td>0</td>\n",
       "      <td>0</td>\n",
       "      <td>1</td>\n",
       "      <td>0</td>\n",
       "    </tr>\n",
       "    <tr>\n",
       "      <th>1721</th>\n",
       "      <td>0</td>\n",
       "      <td>0</td>\n",
       "      <td>0</td>\n",
       "      <td>0</td>\n",
       "      <td>0</td>\n",
       "      <td>0</td>\n",
       "      <td>0</td>\n",
       "      <td>0</td>\n",
       "      <td>0</td>\n",
       "      <td>0</td>\n",
       "      <td>...</td>\n",
       "      <td>0</td>\n",
       "      <td>0</td>\n",
       "      <td>0</td>\n",
       "      <td>0</td>\n",
       "      <td>0</td>\n",
       "      <td>0</td>\n",
       "      <td>0</td>\n",
       "      <td>0</td>\n",
       "      <td>0</td>\n",
       "      <td>0</td>\n",
       "    </tr>\n",
       "    <tr>\n",
       "      <th>1722</th>\n",
       "      <td>0</td>\n",
       "      <td>0</td>\n",
       "      <td>0</td>\n",
       "      <td>0</td>\n",
       "      <td>0</td>\n",
       "      <td>1</td>\n",
       "      <td>0</td>\n",
       "      <td>0</td>\n",
       "      <td>0</td>\n",
       "      <td>0</td>\n",
       "      <td>...</td>\n",
       "      <td>0</td>\n",
       "      <td>0</td>\n",
       "      <td>0</td>\n",
       "      <td>0</td>\n",
       "      <td>0</td>\n",
       "      <td>0</td>\n",
       "      <td>0</td>\n",
       "      <td>0</td>\n",
       "      <td>0</td>\n",
       "      <td>1</td>\n",
       "    </tr>\n",
       "  </tbody>\n",
       "</table>\n",
       "<p>1723 rows × 3713 columns</p>\n",
       "</div>"
      ],
      "text/plain": [
       "      0     1     2     3     4     5     6     7     8     9     ...  3703  \\\n",
       "0        1     1     1     1     1     1     1     1     1     1  ...     0   \n",
       "1        1     0     0     0     0     0     0     0     0     0  ...     0   \n",
       "2        0     0     0     0     0     1     0     0     0     0  ...     0   \n",
       "3        0     0     0     0     0     1     0     0     0     0  ...     0   \n",
       "4        0     0     0     0     0     0     0     0     0     0  ...     0   \n",
       "...    ...   ...   ...   ...   ...   ...   ...   ...   ...   ...  ...   ...   \n",
       "1718     0     0     0     0     0     1     0     0     0     0  ...     0   \n",
       "1719     0     0     0     0     0     0     0     0     0     0  ...     0   \n",
       "1720     0     0     0     0     0     0     0     0     0     0  ...     0   \n",
       "1721     0     0     0     0     0     0     0     0     0     0  ...     0   \n",
       "1722     0     0     0     0     0     1     0     0     0     0  ...     0   \n",
       "\n",
       "      3704  3705  3706  3707  3708  3709  3710  3711  3712  \n",
       "0        0     0     0     0     0     0     0     0     0  \n",
       "1        0     0     0     0     0     0     0     0     0  \n",
       "2        0     0     0     0     0     0     0     0     0  \n",
       "3        0     0     0     0     0     0     0     0     0  \n",
       "4        0     0     0     0     0     0     0     0     0  \n",
       "...    ...   ...   ...   ...   ...   ...   ...   ...   ...  \n",
       "1718     0     0     0     0     0     1     0     0     0  \n",
       "1719     0     0     0     0     0     0     1     0     0  \n",
       "1720     0     0     0     0     0     0     0     1     0  \n",
       "1721     0     0     0     0     0     0     0     0     0  \n",
       "1722     0     0     0     0     0     0     0     0     1  \n",
       "\n",
       "[1723 rows x 3713 columns]"
      ]
     },
     "execution_count": 7,
     "metadata": {},
     "output_type": "execute_result"
    }
   ],
   "source": [
    "pd.DataFrame(X_new.toarray())"
   ]
  },
  {
   "cell_type": "markdown",
   "metadata": {},
   "source": [
    "# 模型建立"
   ]
  },
  {
   "cell_type": "markdown",
   "metadata": {},
   "source": [
    "## DBSCAN聚类"
   ]
  },
  {
   "cell_type": "markdown",
   "metadata": {},
   "source": [
    "### 参数筛选"
   ]
  },
  {
   "cell_type": "code",
   "execution_count": 8,
   "metadata": {
    "ExecuteTime": {
     "end_time": "2021-08-24T06:23:18.577818Z",
     "start_time": "2021-08-24T06:23:18.570835Z"
    }
   },
   "outputs": [],
   "source": [
    "def clustering(X, eps=0.5, min_samples=2):\n",
    "    db = DBSCAN(eps=eps, min_samples=2, n_jobs=-1)\n",
    "    db.fit(X)\n",
    "    labels = db.labels_\n",
    "    return labels"
   ]
  },
  {
   "cell_type": "code",
   "execution_count": 9,
   "metadata": {
    "ExecuteTime": {
     "end_time": "2021-08-24T06:23:19.016745Z",
     "start_time": "2021-08-24T06:23:18.996799Z"
    }
   },
   "outputs": [],
   "source": [
    "#dbscan聚类参数筛选\n",
    "def cluster_param_select(X, eps_begin=0.1, eps_end=2,strides=0.05):\n",
    "\n",
    "    # 聚类簇列表、游离个体数列表\n",
    "    num_clu_list = []\n",
    "    num_indi_list = []\n",
    "    # 产生迭代参数\n",
    "    epsilon_list = np.arange(eps_begin, eps_end, strides)\n",
    "    for eps in epsilon_list:\n",
    "        labels = clustering(X, eps)\n",
    "        # 聚类簇\n",
    "        clusters = np.unique(labels)\n",
    "        # 聚类簇数量\n",
    "        num_clusters = len(clusters)\n",
    "        # 游离个体数量\n",
    "        individuals = list(filter(lambda x:x==-1, labels))\n",
    "        # create list\n",
    "        num_clu_list.append(num_clusters)\n",
    "        num_indi_list.append(len(individuals))\n",
    "    plt.style.use('ggplot')\n",
    "    plt.figure(figsize=(12, 4))\n",
    "    plt.subplots_adjust(left=0.125, bottom=None, right=0.9, top=None,\n",
    "            wspace=0.3, hspace=None)\n",
    "    plt.subplot(1,2,1) \n",
    "    plt.plot(epsilon_list, num_clu_list)                \n",
    "    plt.xlabel(u'epsilon',fontsize=20)\n",
    "    plt.ylabel(u'聚类数',fontsize=20)\n",
    "    plt.subplot(1,2,2)\n",
    "    plt.plot(epsilon_list, num_indi_list)      \n",
    "    plt.xlabel(u'epsilon',fontsize=20)\n",
    "    plt.ylabel(u'游离个体数',fontsize=20)  \n",
    "    plt.show()\n"
   ]
  },
  {
   "cell_type": "code",
   "execution_count": 10,
   "metadata": {
    "ExecuteTime": {
     "end_time": "2021-08-24T06:23:23.505776Z",
     "start_time": "2021-08-24T06:23:19.899318Z"
    }
   },
   "outputs": [
    {
     "data": {
      "image/png": "[encoded data removed]",
      "text/plain": [
       "<Figure size 864x288 with 2 Axes>"
      ]
     },
     "metadata": {},
     "output_type": "display_data"
    }
   ],
   "source": [
    "cluster_param_select(X_new)"
   ]
  },
  {
   "cell_type": "markdown",
   "metadata": {},
   "source": [
    "### DBSCAN聚类"
   ]
  },
  {
   "cell_type": "code",
   "execution_count": 11,
   "metadata": {
    "ExecuteTime": {
     "end_time": "2021-08-16T17:14:36.798886Z",
     "start_time": "2021-08-16T17:14:36.784930Z"
    }
   },
   "outputs": [],
   "source": [
    "#查看聚类效果\n",
    "def test_param(data_raw, labels, rank=1):\n",
    "    X = data_raw\n",
    "    X['所属簇'] = labels\n",
    "    label_num = dict()\n",
    "    labels_set = set(np.unique(labels)) \n",
    "\n",
    "    for label in labels_set:\n",
    "        X_tmp = X.loc[X['所属簇']==label]['评论']\n",
    "        label_num[label] = label_num.get(label, 0) + X_tmp.shape[0] \n",
    "    \n",
    "    # 输出聚类簇-样品数\n",
    "    print('聚类簇-样品数： ', label_num) \n",
    "    \n",
    "    # 根据值排序\n",
    "    label_num_sort = sorted(label_num.items(), key=lambda x: x[1], reverse=True)\n",
    "    label_num_max = label_num_sort[rank][0] \n",
    "    # 输出内容\n",
    "    X_tmp = X.loc[X['所属簇']==label_num_max]['评论'].values\n",
    "    print('样品数%d多的聚类下，内容: \\n'%rank, X_tmp)"
   ]
  },
  {
   "cell_type": "code",
   "execution_count": 12,
   "metadata": {
    "ExecuteTime": {
     "end_time": "2021-08-16T17:14:37.097063Z",
     "start_time": "2021-08-16T17:14:36.799858Z"
    },
    "scrolled": true
   },
   "outputs": [
    {
     "name": "stdout",
     "output_type": "stream",
     "text": [
      "聚类簇-样品数：  {0: 2, 1: 5, 2: 5, 3: 2, 4: 3, 5: 2, 6: 3, 7: 3, 8: 2, 9: 2, 10: 2, 11: 2, 12: 2, 13: 2, 14: 2, 15: 2, 16: 2, 17: 3, 18: 3, 19: 3, 20: 3, 21: 3, 22: 3, 23: 3, 24: 3, 25: 3, 26: 3, 27: 2, 28: 2, 29: 2, 30: 2, 31: 2, 32: 3, 33: 2, 34: 2, 35: 2, 36: 2, 37: 2, 38: 2, -1: 2084}\n",
      "样品数1多的聚类下，内容: \n",
      " ['景色不错，' '景色不错，' '景色不错，' '景色不错，' '景色不错，']\n",
      "聚类簇-样品数：  {0: 2, 1: 5, 2: 5, 3: 2, 4: 3, 5: 2, 6: 2, 7: 2, 8: 2, 9: 2, 10: 2, 11: 2, 12: 2, 13: 2, 14: 2, 15: 3, 16: 3, 17: 3, 18: 3, 19: 3, 20: 3, 21: 3, 22: 3, 23: 3, 24: 3, 25: 2, 26: 2, 27: 2, 28: 2, 29: 2, 30: 3, 31: 2, 32: 2, 33: 2, 34: 2, 35: 2, -1: 2092}\n",
      "样品数1多的聚类下，内容: \n",
      " ['景色不错，' '景色不错，' '景色不错，' '景色不错，' '景色不错，']\n"
     ]
    }
   ],
   "source": [
    "#由图像选取两个eps值\n",
    "eps_1=1\n",
    "eps_2=0.9\n",
    "labels_1 = clustering(X_new, eps_1)\n",
    "labels_2 = clustering(X_new, eps_2)\n",
    "test_param(data_raw, labels_1)\n",
    "test_param(data_raw, labels_2)"
   ]
  },
  {
   "cell_type": "markdown",
   "metadata": {},
   "source": [
    "### 评论有效性处理"
   ]
  },
  {
   "cell_type": "code",
   "execution_count": 13,
   "metadata": {
    "ExecuteTime": {
     "end_time": "2021-08-16T17:14:37.113091Z",
     "start_time": "2021-08-16T17:14:37.099061Z"
    }
   },
   "outputs": [],
   "source": [
    "def return_valid_result(data, labels):\n",
    "    #label_num = dict()\n",
    "    labels_set = set(np.unique(labels))\n",
    "    data['所属簇'] = labels\n",
    "    columns = data.columns\n",
    "    data_valid = pd.DataFrame(columns=columns)\n",
    "    for label in labels_set:\n",
    "        # 游离数据不参与筛选\n",
    "        if label == -1:\n",
    "            df_valid_indiv = data.loc[data['所属簇'] == -1]\n",
    "            data_valid = pd.concat([data_valid, df_valid_indiv])\n",
    "            continue\n",
    "        # 保留第一条\n",
    "        df_valid_selection = data.loc[data['所属簇'] == label][0:1]\n",
    "        if df_valid_selection.shape[0] > 1:\n",
    "            df_valid_selection = df_valid_selection.sample(n=1)\n",
    "        data_valid = pd.concat([data_valid, df_valid_selection])\n",
    "\n",
    "    return data_valid"
   ]
  },
  {
   "cell_type": "code",
   "execution_count": 14,
   "metadata": {
    "ExecuteTime": {
     "end_time": "2021-08-16T17:14:37.208858Z",
     "start_time": "2021-08-16T17:14:37.114059Z"
    }
   },
   "outputs": [
    {
     "data": {
      "text/html": [
       "<div>\n",
       "<style scoped>\n",
       "    .dataframe tbody tr th:only-of-type {\n",
       "        vertical-align: middle;\n",
       "    }\n",
       "\n",
       "    .dataframe tbody tr th {\n",
       "        vertical-align: top;\n",
       "    }\n",
       "\n",
       "    .dataframe thead th {\n",
       "        text-align: right;\n",
       "    }\n",
       "</style>\n",
       "<table border=\"1\" class=\"dataframe\">\n",
       "  <thead>\n",
       "    <tr style=\"text-align: right;\">\n",
       "      <th></th>\n",
       "      <th>评论</th>\n",
       "      <th>得分</th>\n",
       "      <th>时间</th>\n",
       "      <th>点赞</th>\n",
       "    </tr>\n",
       "  </thead>\n",
       "  <tbody>\n",
       "    <tr>\n",
       "      <th>0</th>\n",
       "      <td>为了迎接奥运会帆船比赛和打造“帆船之都”，青岛市人民政府把北海船厂整体搬迁到西海岸新区的海西...</td>\n",
       "      <td>5.0</td>\n",
       "      <td>2021/07/07</td>\n",
       "      <td>0</td>\n",
       "    </tr>\n",
       "    <tr>\n",
       "      <th>1</th>\n",
       "      <td>景色不错，</td>\n",
       "      <td>5.0</td>\n",
       "      <td>2021/06/22</td>\n",
       "      <td>0</td>\n",
       "    </tr>\n",
       "    <tr>\n",
       "      <th>2</th>\n",
       "      <td>有趣好玩，景色不错，体验很好，值得推荐，</td>\n",
       "      <td>5.0</td>\n",
       "      <td>2020/09/06</td>\n",
       "      <td>0</td>\n",
       "    </tr>\n",
       "    <tr>\n",
       "      <th>3</th>\n",
       "      <td>青岛国际奥帆中心，坐落于青岛市东部新区浮山湾畔，北海船厂原址，是2008年第29届北京奥运会...</td>\n",
       "      <td>4.4</td>\n",
       "      <td>2019/05/08</td>\n",
       "      <td>4</td>\n",
       "    </tr>\n",
       "    <tr>\n",
       "      <th>4</th>\n",
       "      <td>景色不错，体验很好，值得推荐，</td>\n",
       "      <td>4.4</td>\n",
       "      <td>2020/10/12</td>\n",
       "      <td>0</td>\n",
       "    </tr>\n",
       "    <tr>\n",
       "      <th>...</th>\n",
       "      <td>...</td>\n",
       "      <td>...</td>\n",
       "      <td>...</td>\n",
       "      <td>...</td>\n",
       "    </tr>\n",
       "    <tr>\n",
       "      <th>2118</th>\n",
       "      <td>差评  差评  差评   差评   差评   差评</td>\n",
       "      <td>4.4</td>\n",
       "      <td>2017/06/17</td>\n",
       "      <td>2</td>\n",
       "    </tr>\n",
       "    <tr>\n",
       "      <th>2119</th>\n",
       "      <td>5D电影千万不要去   不是电影    是立体图   骗钱的</td>\n",
       "      <td>4.4</td>\n",
       "      <td>2013/07/27</td>\n",
       "      <td>0</td>\n",
       "    </tr>\n",
       "    <tr>\n",
       "      <th>2120</th>\n",
       "      <td>人很多 景色太一般  周边配套设施也没什么 没有管理和服务</td>\n",
       "      <td>4.4</td>\n",
       "      <td>2017/08/20</td>\n",
       "      <td>0</td>\n",
       "    </tr>\n",
       "    <tr>\n",
       "      <th>2121</th>\n",
       "      <td>懵人的，就做了个大船，其他都是糊弄事，上当！</td>\n",
       "      <td>4.4</td>\n",
       "      <td>2017/04/10</td>\n",
       "      <td>0</td>\n",
       "    </tr>\n",
       "    <tr>\n",
       "      <th>2122</th>\n",
       "      <td>很不值得，拉客生意很多，应该整治了。</td>\n",
       "      <td>4.4</td>\n",
       "      <td>2017/05/09</td>\n",
       "      <td>0</td>\n",
       "    </tr>\n",
       "  </tbody>\n",
       "</table>\n",
       "<p>2123 rows × 4 columns</p>\n",
       "</div>"
      ],
      "text/plain": [
       "                                                     评论   得分          时间 点赞\n",
       "0     为了迎接奥运会帆船比赛和打造“帆船之都”，青岛市人民政府把北海船厂整体搬迁到西海岸新区的海西...  5.0  2021/07/07  0\n",
       "1                                                 景色不错，  5.0  2021/06/22  0\n",
       "2                                  有趣好玩，景色不错，体验很好，值得推荐，  5.0  2020/09/06  0\n",
       "3     青岛国际奥帆中心，坐落于青岛市东部新区浮山湾畔，北海船厂原址，是2008年第29届北京奥运会...  4.4  2019/05/08  4\n",
       "4                                       景色不错，体验很好，值得推荐，  4.4  2020/10/12  0\n",
       "...                                                 ...  ...         ... ..\n",
       "2118                          差评  差评  差评   差评   差评   差评  4.4  2017/06/17  2\n",
       "2119                     5D电影千万不要去   不是电影    是立体图   骗钱的  4.4  2013/07/27  0\n",
       "2120                      人很多 景色太一般  周边配套设施也没什么 没有管理和服务  4.4  2017/08/20  0\n",
       "2121                             懵人的，就做了个大船，其他都是糊弄事，上当！  4.4  2017/04/10  0\n",
       "2122                                 很不值得，拉客生意很多，应该整治了。  4.4  2017/05/09  0\n",
       "\n",
       "[2123 rows x 4 columns]"
      ]
     },
     "execution_count": 14,
     "metadata": {},
     "output_type": "execute_result"
    }
   ],
   "source": [
    "data = data_raw\n",
    "data_valid = return_valid_result(data, labels_1)\n",
    "data_valid.drop(['所属簇','Unnamed: 0'], axis=1, inplace=True)\n",
    "data_valid=data_valid.reset_index(drop=True)\n",
    "data_valid"
   ]
  },
  {
   "cell_type": "code",
   "execution_count": 15,
   "metadata": {
    "ExecuteTime": {
     "end_time": "2021-08-16T17:14:37.240199Z",
     "start_time": "2021-08-16T17:14:37.209803Z"
    }
   },
   "outputs": [],
   "source": [
    "data_valid.to_csv('clean_data/'+comment_file_path.split('.')[0].split('/')[1]+'new_.csv',encoding='utf_8_sig')"
   ]
  },
  {
   "cell_type": "code",
   "execution_count": null,
   "metadata": {},
   "outputs": [],
   "source": []
  }
 ],
 "metadata": {
  "kernelspec": {
   "display_name": "Python 3",
   "language": "python",
   "name": "python3"
  },
  "language_info": {
   "codemirror_mode": {
    "name": "ipython",
    "version": 3
   },
   "file_extension": ".py",
   "mimetype": "text/x-python",
   "name": "python",
   "nbconvert_exporter": "python",
   "pygments_lexer": "ipython3",
   "version": "3.8.5"
  },
  "toc": {
   "base_numbering": 1,
   "nav_menu": {},
   "number_sections": true,
   "sideBar": true,
   "skip_h1_title": false,
   "title_cell": "Table of Contents",
   "title_sidebar": "Contents",
   "toc_cell": false,
   "toc_position": {},
   "toc_section_display": true,
   "toc_window_display": false
  },
  "varInspector": {
   "cols": {
    "lenName": 16,
    "lenType": 16,
    "lenVar": 40
   },
   "kernels_config": {
    "python": {
     "delete_cmd_postfix": "",
     "delete_cmd_prefix": "del ",
     "library": "var_list.py",
     "varRefreshCmd": "print(var_dic_list())"
    },
    "r": {
     "delete_cmd_postfix": ") ",
     "delete_cmd_prefix": "rm(",
     "library": "var_list.r",
     "varRefreshCmd": "cat(var_dic_list()) "
    }
   },
   "oldHeight": 313.4,
   "position": {
    "height": "40px",
    "left": "1252.4px",
    "right": "20px",
    "top": "120px",
    "width": "250px"
   },
   "types_to_exclude": [
    "module",
    "function",
    "builtin_function_or_method",
    "instance",
    "_Feature"
   ],
   "varInspector_section_display": "none",
   "window_display": true
  }
 },
 "nbformat": 4,
 "nbformat_minor": 4
}
